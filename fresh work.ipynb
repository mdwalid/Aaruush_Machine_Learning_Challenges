{
 "cells": [
  {
   "cell_type": "code",
   "execution_count": 167,
   "metadata": {},
   "outputs": [],
   "source": [
    "import numpy as np # linear algebra\n",
    "import pandas as pd\n",
    "\n",
    "df=pd.read_csv(\"/home/walid/ML challenge/final.csv\")"
   ]
  },
  {
   "cell_type": "code",
   "execution_count": 168,
   "metadata": {},
   "outputs": [],
   "source": [
    "df_test=pd.read_csv(\"/home/walid/ML challenge/Test.csv\")"
   ]
  },
  {
   "cell_type": "code",
   "execution_count": 169,
   "metadata": {},
   "outputs": [],
   "source": [
    "x=df_new=df.drop(\"target\",axis=1)\n",
    "train_x=x.drop(\"ID\",axis=1)\n",
    "train_y=df.target"
   ]
  },
  {
   "cell_type": "code",
   "execution_count": 170,
   "metadata": {},
   "outputs": [],
   "source": [
    "test_x=df_test.drop(\"ID\",axis=1)"
   ]
  },
  {
   "cell_type": "code",
   "execution_count": 171,
   "metadata": {},
   "outputs": [],
   "source": [
    "import pandas as pd\n",
    "from sklearn.preprocessing import MinMaxScaler\n",
    "from sklearn.model_selection import train_test_split\n",
    "from sklearn.metrics import classification_report, confusion_matrix\n",
    "from sklearn.ensemble import GradientBoostingClassifier\n",
    "from sklearn import preprocessing\n",
    "\n",
    "\n",
    "scaler = MinMaxScaler()\n",
    "\n",
    "X_train = scaler.fit_transform(train_x)\n",
    "X_val = scaler.fit_transform(test_x)\n",
    "\n",
    "\n",
    "\n",
    "# train_x=preprocessing.normalize(train_x)\n",
    "\n",
    "\n",
    "# test_x=preprocessing.normalize(test_x)\n"
   ]
  },
  {
   "cell_type": "code",
   "execution_count": 172,
   "metadata": {},
   "outputs": [
    {
     "name": "stdout",
     "output_type": "stream",
     "text": [
      "Learning rate:  0.05\n",
      "Accuracy score (training): 0.898\n",
      "Learning rate:  0.075\n",
      "Accuracy score (training): 0.911\n",
      "Learning rate:  0.1\n",
      "Accuracy score (training): 0.917\n",
      "Learning rate:  0.25\n",
      "Accuracy score (training): 0.987\n",
      "Learning rate:  0.5\n",
      "Accuracy score (training): 1.000\n"
     ]
    }
   ],
   "source": [
    "lr_list = [0.05, 0.075, 0.1, 0.25, 0.5]\n",
    "\n",
    "for learning_rate in lr_list:\n",
    "    gb_clf = GradientBoostingClassifier(n_estimators=100, learning_rate=learning_rate, max_features=6, max_depth=2, random_state=0)\n",
    "    gb_clf.fit(train_x, train_y)\n",
    "\n",
    "    print(\"Learning rate: \", learning_rate)\n",
    "    print(\"Accuracy score (training): {0:.3f}\".format(gb_clf.score(train_x, train_y)))"
   ]
  },
  {
   "cell_type": "code",
   "execution_count": 179,
   "metadata": {},
   "outputs": [
    {
     "name": "stdout",
     "output_type": "stream",
     "text": [
      "Accuracy score (training): 1.000\n"
     ]
    }
   ],
   "source": [
    "gb_clf = GradientBoostingClassifier(n_estimators=100, learning_rate=0.5, max_features=6, max_depth=2, random_state=0)\n",
    "gb_clf.fit(train_x, train_y)\n",
    "\n",
    "print(\"Accuracy score (training): {0:.3f}\".format(gb_clf.score(train_x, train_y)))"
   ]
  },
  {
   "cell_type": "code",
   "execution_count": 180,
   "metadata": {},
   "outputs": [],
   "source": [
    "ff=gb_clf.predict(test_x)"
   ]
  },
  {
   "cell_type": "code",
   "execution_count": 181,
   "metadata": {},
   "outputs": [
    {
     "data": {
      "text/plain": [
       "array([1, 0, 0, 0, 1, 1, 1, 1, 1, 1, 1, 0, 1, 1, 1, 0, 1, 0, 1, 0, 0, 1,\n",
       "       0, 0, 1, 1, 0, 0, 0, 0, 1, 1, 0, 0, 1, 1, 0, 0, 0, 1, 0, 1, 1, 1,\n",
       "       1, 1, 1, 1, 0, 0])"
      ]
     },
     "execution_count": 181,
     "metadata": {},
     "output_type": "execute_result"
    }
   ],
   "source": [
    "ff"
   ]
  },
  {
   "cell_type": "code",
   "execution_count": 182,
   "metadata": {},
   "outputs": [],
   "source": [
    "src=[1, 0, 0, 0, 1, 1, 1, 1, 1, 1, 1, 0, 1, 1, 1, 0, 1,\n",
    "       0, 1, 0, 0, 1, 0, 0, 1, 1, 0, 0, 0, 0, 1, 1, 0, 0,\n",
    "       1, 1, 0, 0, 0, 1, 0, 1, 1, 1, 1, 1, 1, 1, 0, 0]\n",
    "\n",
    "   \n",
    "# dictionary of lists  \n",
    "dict = {'target': src}  \n",
    "     \n",
    "final_result = pd.DataFrame(dict) \n",
    "  \n",
    "# saving the dataframe \n",
    "final_result.to_csv('prediction3.csv', header=True, index=False) "
   ]
  },
  {
   "cell_type": "code",
   "execution_count": 42,
   "metadata": {},
   "outputs": [
    {
     "name": "stdout",
     "output_type": "stream",
     "text": [
      "\n",
      "Training Accuracy : 0.841897233201581\n",
      "\n",
      "Test Accuracy : 0.76\n"
     ]
    }
   ],
   "source": [
    "from sklearn.naive_bayes import GaussianNB\n",
    "from sklearn.preprocessing import StandardScaler\n",
    "import numpy as np\n",
    "from sklearn.model_selection import train_test_split \n",
    "from sklearn.metrics import roc_auc_score\n",
    "from sklearn.metrics import roc_curve\n",
    "from sklearn.metrics import accuracy_score\n",
    "\n",
    "\n",
    "gnb = GaussianNB()\n",
    "#stscalar=StandardScaler()\n",
    "#train_x=stscalar.fit_transform(train_x)\n",
    "#test_x=stscalar.transform(test_x)\n",
    "gnb.fit(train_x, train_y)\n",
    "\n",
    "predictions_train = gnb.predict(train_x)\n",
    "predictions_test = gnb.predict(test_x)\n",
    "\n",
    "print('\\nTraining Accuracy :', accuracy_score(train_y, predictions_train))\n",
    "\n",
    "# make predictions on test data\n",
    "\n",
    "predictions_test = gnb.predict(test_x)\n",
    "print('\\nTest Accuracy :', accuracy_score(test_y, predictions_test))"
   ]
  },
  {
   "cell_type": "code",
   "execution_count": 73,
   "metadata": {},
   "outputs": [
    {
     "data": {
      "text/plain": [
       "XGBClassifier(base_score=0.5, booster=None, colsample_bylevel=1,\n",
       "              colsample_bynode=1, colsample_bytree=1, gamma=0, gpu_id=-1,\n",
       "              importance_type='gain', interaction_constraints=None,\n",
       "              learning_rate=0.1, max_delta_step=0, max_depth=6, max_features=2,\n",
       "              min_child_weight=1, missing=nan, monotone_constraints=None,\n",
       "              n_estimators=5000, n_jobs=0, num_parallel_tree=1,\n",
       "              objective='binary:logistic', random_state=0, reg_alpha=0,\n",
       "              reg_lambda=1, scale_pos_weight=1, subsample=1, tree_method=None,\n",
       "              validate_parameters=False, verbosity=None)"
      ]
     },
     "execution_count": 73,
     "metadata": {},
     "output_type": "execute_result"
    }
   ],
   "source": [
    "from xgboost import XGBClassifier\n",
    "model = XGBClassifier(n_estimators=2000, learning_rate=0.1,max_features=2)\n",
    "model.fit(train_x, train_y)"
   ]
  },
  {
   "cell_type": "code",
   "execution_count": 74,
   "metadata": {},
   "outputs": [
    {
     "name": "stdout",
     "output_type": "stream",
     "text": [
      "Accuracy score (training): 1.000\n",
      "Accuracy score (validation): 0.760\n"
     ]
    }
   ],
   "source": [
    "print(\"Accuracy score (training): {0:.3f}\".format(model.score(train_x, train_y)))\n",
    "print(\"Accuracy score (validation): {0:.3f}\".format(model.score(test_x, test_y)))"
   ]
  },
  {
   "cell_type": "code",
   "execution_count": 89,
   "metadata": {},
   "outputs": [
    {
     "name": "stdout",
     "output_type": "stream",
     "text": [
      "\n",
      "Training Accuracy : 0.8814229249011858\n",
      "Accuracy score (validation): 0.820\n"
     ]
    }
   ],
   "source": [
    "from sklearn.ensemble import AdaBoostClassifier\n",
    "seed=3\n",
    "#train_x,test_x,train_y,test_y=train_test_split(data_X,data_Y,test_size=0.20, random_state=seed, stratify=target)\n",
    "from sklearn import preprocessing\n",
    "#x=preprocessing.normalize(train_x)\n",
    "#test_x=preprocessing.normalize(x)\n",
    "\n",
    "\n",
    "clf = AdaBoostClassifier(n_estimators=500, random_state=42,learning_rate=0.01)\n",
    "clf.fit(train_x, train_y)\n",
    "#predictions_train=clf.predict(train_x)\n",
    "\n",
    "#predictions_test=clf.predict(test_x)\n",
    "\n",
    "print('\\nTraining Accuracy :', clf.score(train_x, train_y))\n",
    "print(\"Accuracy score (validation): {0:.3f}\".format(clf.score(test_x, test_y)))"
   ]
  },
  {
   "cell_type": "code",
   "execution_count": 107,
   "metadata": {},
   "outputs": [],
   "source": [
    "import numpy as np\n",
    "import pandas as pd\n",
    "import tensorflow as tf"
   ]
  },
  {
   "cell_type": "code",
   "execution_count": 108,
   "metadata": {},
   "outputs": [],
   "source": [
    "df=df.drop(\"ID\",axis=1)\n",
    "target = df.pop('target')\n",
    "\n",
    "dataset = tf.data.Dataset.from_tensor_slices((df.values, target.values))"
   ]
  },
  {
   "cell_type": "code",
   "execution_count": 109,
   "metadata": {},
   "outputs": [],
   "source": [
    "df_test=df_test.drop(\"ID\",axis=1)\n",
    "target_t = df_test.pop('target')\n",
    "\n",
    "val = tf.data.Dataset.from_tensor_slices((df_test.values, target_t.values))"
   ]
  },
  {
   "cell_type": "code",
   "execution_count": 110,
   "metadata": {},
   "outputs": [],
   "source": [
    "train_dataset = dataset.shuffle(len(df)).batch(1)"
   ]
  },
  {
   "cell_type": "code",
   "execution_count": 123,
   "metadata": {},
   "outputs": [],
   "source": [
    "def get_compiled_model():\n",
    "  model = tf.keras.Sequential([\n",
    "    tf.keras.layers.Dense(224, activation='relu'),\n",
    "    tf.keras.layers.Dense(100, activation='relu'),\n",
    "    tf.keras.layers.Dense(1,activation='sigmoid')\n",
    "  ])\n",
    "\n",
    "  model.compile(optimizer='adam',\n",
    "                loss=tf.keras.losses.BinaryCrossentropy(from_logits=True),\n",
    "                metrics=['accuracy'])\n",
    "  return model"
   ]
  },
  {
   "cell_type": "code",
   "execution_count": 124,
   "metadata": {},
   "outputs": [
    {
     "name": "stdout",
     "output_type": "stream",
     "text": [
      "Epoch 1/100\n",
      "WARNING:tensorflow:Layer dense_26 is casting an input tensor from dtype float64 to the layer's dtype of float32, which is new behavior in TensorFlow 2.  The layer has dtype float32 because its dtype defaults to floatx.\n",
      "\n",
      "If you intended to run this layer in float32, you can safely ignore this warning. If in doubt, this warning is likely only an issue if you are porting a TensorFlow 1.X model to TensorFlow 2.\n",
      "\n",
      "To change all layers to have dtype float64 by default, call `tf.keras.backend.set_floatx('float64')`. To change just this layer, pass dtype='float64' to the layer constructor. If you are the author of this layer, you can disable autocasting by passing autocast=False to the base Layer constructor.\n",
      "\n",
      "253/253 [==============================] - 1s 2ms/step - loss: 0.7523 - accuracy: 0.5609\n",
      "Epoch 2/100\n",
      "253/253 [==============================] - 0s 2ms/step - loss: 0.7152 - accuracy: 0.5981\n",
      "Epoch 3/100\n",
      "253/253 [==============================] - 1s 2ms/step - loss: 0.8456 - accuracy: 0.4677\n",
      "Epoch 4/100\n",
      "253/253 [==============================] - 1s 2ms/step - loss: 0.8093 - accuracy: 0.5039\n",
      "Epoch 5/100\n",
      "253/253 [==============================] - 0s 1ms/step - loss: 0.7840 - accuracy: 0.5293\n",
      "Epoch 6/100\n",
      "253/253 [==============================] - 0s 1ms/step - loss: 0.7943 - accuracy: 0.5190\n",
      "Epoch 7/100\n",
      "253/253 [==============================] - 0s 1ms/step - loss: 0.8041 - accuracy: 0.5091\n",
      "Epoch 8/100\n",
      "253/253 [==============================] - 0s 1ms/step - loss: 0.7816 - accuracy: 0.5316\n",
      "Epoch 9/100\n",
      "253/253 [==============================] - 0s 1ms/step - loss: 0.7634 - accuracy: 0.5499\n",
      "Epoch 10/100\n",
      "253/253 [==============================] - 0s 1ms/step - loss: 0.8075 - accuracy: 0.5058\n",
      "Epoch 11/100\n",
      "253/253 [==============================] - 0s 2ms/step - loss: 0.7637 - accuracy: 0.5495\n",
      "Epoch 12/100\n",
      "253/253 [==============================] - 0s 2ms/step - loss: 0.8139 - accuracy: 0.4993\n",
      "Epoch 13/100\n",
      "253/253 [==============================] - 0s 1ms/step - loss: 0.7222 - accuracy: 0.5911\n",
      "Epoch 14/100\n",
      "253/253 [==============================] - 0s 1ms/step - loss: 0.8112 - accuracy: 0.5021\n",
      "Epoch 15/100\n",
      "253/253 [==============================] - 0s 1ms/step - loss: 0.7661 - accuracy: 0.5471\n",
      "Epoch 16/100\n",
      "253/253 [==============================] - 0s 2ms/step - loss: 0.7143 - accuracy: 0.5990\n",
      "Epoch 17/100\n",
      "253/253 [==============================] - 0s 1ms/step - loss: 0.7941 - accuracy: 0.5191\n",
      "Epoch 18/100\n",
      "253/253 [==============================] - 0s 1ms/step - loss: 0.7828 - accuracy: 0.5304\n",
      "Epoch 19/100\n",
      "253/253 [==============================] - 0s 1ms/step - loss: 0.7894 - accuracy: 0.5239\n",
      "Epoch 20/100\n",
      "253/253 [==============================] - 0s 2ms/step - loss: 0.7638 - accuracy: 0.5494\n",
      "Epoch 21/100\n",
      "253/253 [==============================] - 0s 1ms/step - loss: 0.7957 - accuracy: 0.5176\n",
      "Epoch 22/100\n",
      "253/253 [==============================] - 0s 1ms/step - loss: 0.8001 - accuracy: 0.5132\n",
      "Epoch 23/100\n",
      "253/253 [==============================] - 0s 2ms/step - loss: 0.7486 - accuracy: 0.5646\n",
      "Epoch 24/100\n",
      "253/253 [==============================] - 0s 1ms/step - loss: 0.7770 - accuracy: 0.5362\n",
      "Epoch 25/100\n",
      "253/253 [==============================] - 0s 1ms/step - loss: 0.7695 - accuracy: 0.5438\n",
      "Epoch 26/100\n",
      "253/253 [==============================] - 0s 2ms/step - loss: 0.8383 - accuracy: 0.4749\n",
      "Epoch 27/100\n",
      "253/253 [==============================] - 0s 2ms/step - loss: 0.8328 - accuracy: 0.4805\n",
      "Epoch 28/100\n",
      "253/253 [==============================] - 0s 2ms/step - loss: 0.7728 - accuracy: 0.5405\n",
      "Epoch 29/100\n",
      "253/253 [==============================] - 0s 1ms/step - loss: 0.7822 - accuracy: 0.5310\n",
      "Epoch 30/100\n",
      "253/253 [==============================] - 0s 1ms/step - loss: 0.7372 - accuracy: 0.5761\n",
      "Epoch 31/100\n",
      "253/253 [==============================] - 0s 1ms/step - loss: 0.7648 - accuracy: 0.5484\n",
      "Epoch 32/100\n",
      "253/253 [==============================] - 0s 1ms/step - loss: 0.7694 - accuracy: 0.5438\n",
      "Epoch 33/100\n",
      "253/253 [==============================] - 0s 1ms/step - loss: 0.7875 - accuracy: 0.5257\n",
      "Epoch 34/100\n",
      "253/253 [==============================] - 0s 1ms/step - loss: 0.7627 - accuracy: 0.5506\n",
      "Epoch 35/100\n",
      "253/253 [==============================] - 0s 1ms/step - loss: 0.7837 - accuracy: 0.5296\n",
      "Epoch 36/100\n",
      "253/253 [==============================] - 0s 1ms/step - loss: 0.7204 - accuracy: 0.5929\n",
      "Epoch 37/100\n",
      "253/253 [==============================] - 0s 2ms/step - loss: 0.7879 - accuracy: 0.5254\n",
      "Epoch 38/100\n",
      "253/253 [==============================] - 0s 1ms/step - loss: 0.7972 - accuracy: 0.5161\n",
      "Epoch 39/100\n",
      "253/253 [==============================] - 0s 1ms/step - loss: 0.7377 - accuracy: 0.5755\n",
      "Epoch 40/100\n",
      "253/253 [==============================] - 0s 1ms/step - loss: 0.7422 - accuracy: 0.5711\n",
      "Epoch 41/100\n",
      "253/253 [==============================] - 0s 1ms/step - loss: 0.7778 - accuracy: 0.5354\n",
      "Epoch 42/100\n",
      "253/253 [==============================] - 0s 1ms/step - loss: 0.8345 - accuracy: 0.4787\n",
      "Epoch 43/100\n",
      "253/253 [==============================] - 0s 1ms/step - loss: 0.7644 - accuracy: 0.5488\n",
      "Epoch 44/100\n",
      "253/253 [==============================] - 0s 1ms/step - loss: 0.7424 - accuracy: 0.5708\n",
      "Epoch 45/100\n",
      "253/253 [==============================] - 0s 1ms/step - loss: 0.7757 - accuracy: 0.5375\n",
      "Epoch 46/100\n",
      "253/253 [==============================] - 0s 1ms/step - loss: 0.7599 - accuracy: 0.5534\n",
      "Epoch 47/100\n",
      "253/253 [==============================] - 0s 1ms/step - loss: 0.7367 - accuracy: 0.5766\n",
      "Epoch 48/100\n",
      "253/253 [==============================] - 0s 2ms/step - loss: 0.7672 - accuracy: 0.5461\n",
      "Epoch 49/100\n",
      "253/253 [==============================] - 0s 1ms/step - loss: 0.8044 - accuracy: 0.5089\n",
      "Epoch 50/100\n",
      "253/253 [==============================] - 0s 1ms/step - loss: 0.7952 - accuracy: 0.5180\n",
      "Epoch 51/100\n",
      "253/253 [==============================] - 0s 1ms/step - loss: 0.7391 - accuracy: 0.5742\n",
      "Epoch 52/100\n",
      "253/253 [==============================] - 0s 1ms/step - loss: 0.7638 - accuracy: 0.5494\n",
      "Epoch 53/100\n",
      "253/253 [==============================] - 0s 1ms/step - loss: 0.7943 - accuracy: 0.5189\n",
      "Epoch 54/100\n",
      "253/253 [==============================] - 0s 1ms/step - loss: 0.8013 - accuracy: 0.5120\n",
      "Epoch 55/100\n",
      "253/253 [==============================] - 0s 2ms/step - loss: 0.7966 - accuracy: 0.5166\n",
      "Epoch 56/100\n",
      "253/253 [==============================] - 0s 1ms/step - loss: 0.7660 - accuracy: 0.5473\n",
      "Epoch 57/100\n",
      "253/253 [==============================] - 0s 2ms/step - loss: 0.7874 - accuracy: 0.5259\n",
      "Epoch 58/100\n",
      "253/253 [==============================] - 0s 2ms/step - loss: 0.7579 - accuracy: 0.5553\n",
      "Epoch 59/100\n",
      "253/253 [==============================] - 0s 1ms/step - loss: 0.7449 - accuracy: 0.5684\n",
      "Epoch 60/100\n",
      "253/253 [==============================] - 0s 2ms/step - loss: 0.8216 - accuracy: 0.4917\n",
      "Epoch 61/100\n",
      "253/253 [==============================] - 0s 1ms/step - loss: 0.7359 - accuracy: 0.5773\n",
      "Epoch 62/100\n",
      "253/253 [==============================] - 0s 2ms/step - loss: 0.7687 - accuracy: 0.5446\n",
      "Epoch 63/100\n",
      "253/253 [==============================] - 0s 1ms/step - loss: 0.8130 - accuracy: 0.5002\n",
      "Epoch 64/100\n",
      "253/253 [==============================] - 0s 1ms/step - loss: 0.7717 - accuracy: 0.5415\n",
      "Epoch 65/100\n",
      "253/253 [==============================] - 0s 1ms/step - loss: 0.7905 - accuracy: 0.5228\n",
      "Epoch 66/100\n",
      "253/253 [==============================] - 0s 1ms/step - loss: 0.7470 - accuracy: 0.5663\n",
      "Epoch 67/100\n",
      "253/253 [==============================] - 0s 1ms/step - loss: 0.8030 - accuracy: 0.5102\n",
      "Epoch 68/100\n",
      "253/253 [==============================] - 0s 1ms/step - loss: 0.8079 - accuracy: 0.5054\n",
      "Epoch 69/100\n",
      "253/253 [==============================] - 0s 1ms/step - loss: 0.7755 - accuracy: 0.5377\n",
      "Epoch 70/100\n",
      "253/253 [==============================] - 0s 2ms/step - loss: 0.7409 - accuracy: 0.5723\n",
      "Epoch 71/100\n",
      "253/253 [==============================] - 0s 1ms/step - loss: 0.7376 - accuracy: 0.5757\n",
      "Epoch 72/100\n",
      "253/253 [==============================] - 0s 2ms/step - loss: 0.7326 - accuracy: 0.5806\n",
      "Epoch 73/100\n",
      "253/253 [==============================] - 0s 1ms/step - loss: 0.8077 - accuracy: 0.5055\n",
      "Epoch 74/100\n"
     ]
    },
    {
     "name": "stdout",
     "output_type": "stream",
     "text": [
      "253/253 [==============================] - 0s 1ms/step - loss: 0.7494 - accuracy: 0.5639\n",
      "Epoch 75/100\n",
      "253/253 [==============================] - 0s 1ms/step - loss: 0.8008 - accuracy: 0.5124\n",
      "Epoch 76/100\n",
      "253/253 [==============================] - 0s 1ms/step - loss: 0.8069 - accuracy: 0.5063\n",
      "Epoch 77/100\n",
      "253/253 [==============================] - 0s 1ms/step - loss: 0.7714 - accuracy: 0.5419\n",
      "Epoch 78/100\n",
      "253/253 [==============================] - 0s 1ms/step - loss: 0.7545 - accuracy: 0.5588\n",
      "Epoch 79/100\n",
      "253/253 [==============================] - 0s 1ms/step - loss: 0.8065 - accuracy: 0.5068\n",
      "Epoch 80/100\n",
      "253/253 [==============================] - 0s 1ms/step - loss: 0.7526 - accuracy: 0.5607\n",
      "Epoch 81/100\n",
      "253/253 [==============================] - 0s 1ms/step - loss: 0.7947 - accuracy: 0.5186\n",
      "Epoch 82/100\n",
      "253/253 [==============================] - 0s 1ms/step - loss: 0.7731 - accuracy: 0.5402\n",
      "Epoch 83/100\n",
      "253/253 [==============================] - 0s 1ms/step - loss: 0.7717 - accuracy: 0.5416\n",
      "Epoch 84/100\n",
      "253/253 [==============================] - 0s 1ms/step - loss: 0.6956 - accuracy: 0.6177\n",
      "Epoch 85/100\n",
      "253/253 [==============================] - 0s 1ms/step - loss: 0.7406 - accuracy: 0.5727\n",
      "Epoch 86/100\n",
      "253/253 [==============================] - 0s 1ms/step - loss: 0.7825 - accuracy: 0.5308\n",
      "Epoch 87/100\n",
      "253/253 [==============================] - 0s 1ms/step - loss: 0.7764 - accuracy: 0.5369\n",
      "Epoch 88/100\n",
      "253/253 [==============================] - 0s 1ms/step - loss: 0.7532 - accuracy: 0.5600\n",
      "Epoch 89/100\n",
      "253/253 [==============================] - 0s 1ms/step - loss: 0.7632 - accuracy: 0.5501\n",
      "Epoch 90/100\n",
      "253/253 [==============================] - 0s 1ms/step - loss: 0.7378 - accuracy: 0.5754\n",
      "Epoch 91/100\n",
      "253/253 [==============================] - 0s 1ms/step - loss: 0.8201 - accuracy: 0.4932\n",
      "Epoch 92/100\n",
      "253/253 [==============================] - 0s 1ms/step - loss: 0.7444 - accuracy: 0.5689\n",
      "Epoch 93/100\n",
      "253/253 [==============================] - 0s 1ms/step - loss: 0.7686 - accuracy: 0.5446\n",
      "Epoch 94/100\n",
      "253/253 [==============================] - 0s 1ms/step - loss: 0.7941 - accuracy: 0.5192\n",
      "Epoch 95/100\n",
      "253/253 [==============================] - 0s 1ms/step - loss: 0.7949 - accuracy: 0.5183\n",
      "Epoch 96/100\n",
      "253/253 [==============================] - 0s 1ms/step - loss: 0.7849 - accuracy: 0.5283\n",
      "Epoch 97/100\n",
      "253/253 [==============================] - 0s 1ms/step - loss: 0.7552 - accuracy: 0.5581\n",
      "Epoch 98/100\n",
      "253/253 [==============================] - 0s 1ms/step - loss: 0.7655 - accuracy: 0.5478\n",
      "Epoch 99/100\n",
      "253/253 [==============================] - 0s 999us/step - loss: 0.7419 - accuracy: 0.5713\n",
      "Epoch 100/100\n",
      "253/253 [==============================] - 0s 1ms/step - loss: 0.7240 - accuracy: 0.5892\n"
     ]
    },
    {
     "data": {
      "text/plain": [
       "<tensorflow.python.keras.callbacks.History at 0x7fe4d42317d0>"
      ]
     },
     "execution_count": 124,
     "metadata": {},
     "output_type": "execute_result"
    }
   ],
   "source": [
    "model = get_compiled_model()\n",
    "model.fit(train_dataset, epochs=100)"
   ]
  },
  {
   "cell_type": "code",
   "execution_count": 104,
   "metadata": {},
   "outputs": [],
   "source": []
  },
  {
   "cell_type": "code",
   "execution_count": 162,
   "metadata": {},
   "outputs": [
    {
     "name": "stdout",
     "output_type": "stream",
     "text": [
      "\n",
      "Test Accuracy : 0.9\n",
      "AUC: 0.896\n",
      "              precision    recall  f1-score   support\n",
      "\n",
      "           0     0.9048    0.8636    0.8837        22\n",
      "           1     0.8966    0.9286    0.9123        28\n",
      "\n",
      "    accuracy                         0.9000        50\n",
      "   macro avg     0.9007    0.8961    0.8980        50\n",
      "weighted avg     0.9002    0.9000    0.8997        50\n",
      "\n"
     ]
    }
   ],
   "source": [
    "from sklearn.ensemble import RandomForestClassifier\n",
    "seed=3\n",
    "\n",
    "r=RandomForestClassifier(n_estimators=2000,max_depth=2,max_features=12 ,random_state=42)\n",
    "r.fit(train_x, train_y)\n",
    "predictions_test = r.predict(test_x)\n",
    "\n",
    "from sklearn.metrics import accuracy_score, f1_score, precision_score, recall_score, classification_report, confusion_matrix\n",
    "      \n",
    "print('\\nTest Accuracy :', accuracy_score(test_y, predictions_test))\n",
    "\n",
    "\n",
    "auc = roc_auc_score(test_y, predictions_test)\n",
    "print('AUC: %.3f' % auc)\n",
    "\n",
    "\n",
    "print(classification_report(test_y, predictions_test,digits=4))"
   ]
  },
  {
   "cell_type": "code",
   "execution_count": null,
   "metadata": {},
   "outputs": [],
   "source": []
  }
 ],
 "metadata": {
  "kernelspec": {
   "display_name": "Python 3",
   "language": "python",
   "name": "python3"
  },
  "language_info": {
   "codemirror_mode": {
    "name": "ipython",
    "version": 3
   },
   "file_extension": ".py",
   "mimetype": "text/x-python",
   "name": "python",
   "nbconvert_exporter": "python",
   "pygments_lexer": "ipython3",
   "version": "3.7.4"
  }
 },
 "nbformat": 4,
 "nbformat_minor": 2
}

{
 "cells": [
  {
   "cell_type": "code",
   "execution_count": 67,
   "metadata": {},
   "outputs": [],
   "source": [
    "import numpy as np # linear algebra\n",
    "import pandas as pd\n",
    "\n",
    "df=pd.read_csv(\"/home/walid/ML challenge/final.csv\")\n"
   ]
  },
  {
   "cell_type": "code",
   "execution_count": 68,
   "metadata": {},
   "outputs": [],
   "source": [
    "df_test=pd.read_csv(\"/home/walid/ML challenge/Test.csv\")"
   ]
  },
  {
   "cell_type": "code",
   "execution_count": 69,
   "metadata": {},
   "outputs": [
    {
     "data": {
      "text/html": [
       "<div>\n",
       "<style scoped>\n",
       "    .dataframe tbody tr th:only-of-type {\n",
       "        vertical-align: middle;\n",
       "    }\n",
       "\n",
       "    .dataframe tbody tr th {\n",
       "        vertical-align: top;\n",
       "    }\n",
       "\n",
       "    .dataframe thead th {\n",
       "        text-align: right;\n",
       "    }\n",
       "</style>\n",
       "<table border=\"1\" class=\"dataframe\">\n",
       "  <thead>\n",
       "    <tr style=\"text-align: right;\">\n",
       "      <th></th>\n",
       "      <th>ID</th>\n",
       "      <th>age</th>\n",
       "      <th>sex</th>\n",
       "      <th>cp</th>\n",
       "      <th>trestbps</th>\n",
       "      <th>chol</th>\n",
       "      <th>fbs</th>\n",
       "      <th>restecg</th>\n",
       "      <th>thalach</th>\n",
       "      <th>exang</th>\n",
       "      <th>oldpeak</th>\n",
       "      <th>slope</th>\n",
       "      <th>ca</th>\n",
       "      <th>thal</th>\n",
       "      <th>target</th>\n",
       "    </tr>\n",
       "  </thead>\n",
       "  <tbody>\n",
       "    <tr>\n",
       "      <th>0</th>\n",
       "      <td>29</td>\n",
       "      <td>65</td>\n",
       "      <td>0</td>\n",
       "      <td>2</td>\n",
       "      <td>140</td>\n",
       "      <td>417</td>\n",
       "      <td>1</td>\n",
       "      <td>0</td>\n",
       "      <td>157</td>\n",
       "      <td>0</td>\n",
       "      <td>0.8</td>\n",
       "      <td>2</td>\n",
       "      <td>1</td>\n",
       "      <td>2</td>\n",
       "      <td>1</td>\n",
       "    </tr>\n",
       "    <tr>\n",
       "      <th>1</th>\n",
       "      <td>57</td>\n",
       "      <td>48</td>\n",
       "      <td>1</td>\n",
       "      <td>0</td>\n",
       "      <td>122</td>\n",
       "      <td>222</td>\n",
       "      <td>0</td>\n",
       "      <td>0</td>\n",
       "      <td>186</td>\n",
       "      <td>0</td>\n",
       "      <td>0.0</td>\n",
       "      <td>2</td>\n",
       "      <td>0</td>\n",
       "      <td>2</td>\n",
       "      <td>1</td>\n",
       "    </tr>\n",
       "    <tr>\n",
       "      <th>2</th>\n",
       "      <td>9</td>\n",
       "      <td>52</td>\n",
       "      <td>1</td>\n",
       "      <td>2</td>\n",
       "      <td>172</td>\n",
       "      <td>199</td>\n",
       "      <td>1</td>\n",
       "      <td>1</td>\n",
       "      <td>162</td>\n",
       "      <td>0</td>\n",
       "      <td>0.5</td>\n",
       "      <td>2</td>\n",
       "      <td>0</td>\n",
       "      <td>3</td>\n",
       "      <td>1</td>\n",
       "    </tr>\n",
       "    <tr>\n",
       "      <th>3</th>\n",
       "      <td>147</td>\n",
       "      <td>44</td>\n",
       "      <td>0</td>\n",
       "      <td>2</td>\n",
       "      <td>118</td>\n",
       "      <td>242</td>\n",
       "      <td>0</td>\n",
       "      <td>1</td>\n",
       "      <td>149</td>\n",
       "      <td>0</td>\n",
       "      <td>0.3</td>\n",
       "      <td>1</td>\n",
       "      <td>1</td>\n",
       "      <td>2</td>\n",
       "      <td>1</td>\n",
       "    </tr>\n",
       "    <tr>\n",
       "      <th>4</th>\n",
       "      <td>303</td>\n",
       "      <td>57</td>\n",
       "      <td>0</td>\n",
       "      <td>1</td>\n",
       "      <td>130</td>\n",
       "      <td>236</td>\n",
       "      <td>0</td>\n",
       "      <td>0</td>\n",
       "      <td>174</td>\n",
       "      <td>0</td>\n",
       "      <td>0.0</td>\n",
       "      <td>1</td>\n",
       "      <td>1</td>\n",
       "      <td>2</td>\n",
       "      <td>0</td>\n",
       "    </tr>\n",
       "  </tbody>\n",
       "</table>\n",
       "</div>"
      ],
      "text/plain": [
       "    ID  age  sex  cp  trestbps  chol  fbs  restecg  thalach  exang  oldpeak  \\\n",
       "0   29   65    0   2       140   417    1        0      157      0      0.8   \n",
       "1   57   48    1   0       122   222    0        0      186      0      0.0   \n",
       "2    9   52    1   2       172   199    1        1      162      0      0.5   \n",
       "3  147   44    0   2       118   242    0        1      149      0      0.3   \n",
       "4  303   57    0   1       130   236    0        0      174      0      0.0   \n",
       "\n",
       "   slope  ca  thal  target  \n",
       "0      2   1     2       1  \n",
       "1      2   0     2       1  \n",
       "2      2   0     3       1  \n",
       "3      1   1     2       1  \n",
       "4      1   1     2       0  "
      ]
     },
     "execution_count": 69,
     "metadata": {},
     "output_type": "execute_result"
    }
   ],
   "source": [
    "df.head()"
   ]
  },
  {
   "cell_type": "code",
   "execution_count": 70,
   "metadata": {},
   "outputs": [
    {
     "data": {
      "text/html": [
       "<div>\n",
       "<style scoped>\n",
       "    .dataframe tbody tr th:only-of-type {\n",
       "        vertical-align: middle;\n",
       "    }\n",
       "\n",
       "    .dataframe tbody tr th {\n",
       "        vertical-align: top;\n",
       "    }\n",
       "\n",
       "    .dataframe thead th {\n",
       "        text-align: right;\n",
       "    }\n",
       "</style>\n",
       "<table border=\"1\" class=\"dataframe\">\n",
       "  <thead>\n",
       "    <tr style=\"text-align: right;\">\n",
       "      <th></th>\n",
       "      <th>ID</th>\n",
       "      <th>age</th>\n",
       "      <th>sex</th>\n",
       "      <th>cp</th>\n",
       "      <th>trestbps</th>\n",
       "      <th>chol</th>\n",
       "      <th>fbs</th>\n",
       "      <th>restecg</th>\n",
       "      <th>thalach</th>\n",
       "      <th>exang</th>\n",
       "      <th>oldpeak</th>\n",
       "      <th>slope</th>\n",
       "      <th>ca</th>\n",
       "      <th>thal</th>\n",
       "    </tr>\n",
       "  </thead>\n",
       "  <tbody>\n",
       "    <tr>\n",
       "      <th>0</th>\n",
       "      <td>128</td>\n",
       "      <td>67</td>\n",
       "      <td>0</td>\n",
       "      <td>2</td>\n",
       "      <td>152</td>\n",
       "      <td>277</td>\n",
       "      <td>0</td>\n",
       "      <td>1</td>\n",
       "      <td>172</td>\n",
       "      <td>0</td>\n",
       "      <td>0.0</td>\n",
       "      <td>2</td>\n",
       "      <td>1</td>\n",
       "      <td>2</td>\n",
       "    </tr>\n",
       "    <tr>\n",
       "      <th>1</th>\n",
       "      <td>232</td>\n",
       "      <td>57</td>\n",
       "      <td>1</td>\n",
       "      <td>0</td>\n",
       "      <td>165</td>\n",
       "      <td>289</td>\n",
       "      <td>1</td>\n",
       "      <td>0</td>\n",
       "      <td>124</td>\n",
       "      <td>0</td>\n",
       "      <td>1.0</td>\n",
       "      <td>1</td>\n",
       "      <td>3</td>\n",
       "      <td>3</td>\n",
       "    </tr>\n",
       "    <tr>\n",
       "      <th>2</th>\n",
       "      <td>220</td>\n",
       "      <td>48</td>\n",
       "      <td>1</td>\n",
       "      <td>0</td>\n",
       "      <td>130</td>\n",
       "      <td>256</td>\n",
       "      <td>1</td>\n",
       "      <td>0</td>\n",
       "      <td>150</td>\n",
       "      <td>1</td>\n",
       "      <td>0.0</td>\n",
       "      <td>2</td>\n",
       "      <td>2</td>\n",
       "      <td>3</td>\n",
       "    </tr>\n",
       "    <tr>\n",
       "      <th>3</th>\n",
       "      <td>184</td>\n",
       "      <td>58</td>\n",
       "      <td>1</td>\n",
       "      <td>2</td>\n",
       "      <td>112</td>\n",
       "      <td>230</td>\n",
       "      <td>0</td>\n",
       "      <td>0</td>\n",
       "      <td>165</td>\n",
       "      <td>0</td>\n",
       "      <td>2.5</td>\n",
       "      <td>1</td>\n",
       "      <td>1</td>\n",
       "      <td>3</td>\n",
       "    </tr>\n",
       "    <tr>\n",
       "      <th>4</th>\n",
       "      <td>25</td>\n",
       "      <td>40</td>\n",
       "      <td>1</td>\n",
       "      <td>3</td>\n",
       "      <td>140</td>\n",
       "      <td>199</td>\n",
       "      <td>0</td>\n",
       "      <td>1</td>\n",
       "      <td>178</td>\n",
       "      <td>1</td>\n",
       "      <td>1.4</td>\n",
       "      <td>2</td>\n",
       "      <td>0</td>\n",
       "      <td>3</td>\n",
       "    </tr>\n",
       "  </tbody>\n",
       "</table>\n",
       "</div>"
      ],
      "text/plain": [
       "    ID  age  sex  cp  trestbps  chol  fbs  restecg  thalach  exang  oldpeak  \\\n",
       "0  128   67    0   2       152   277    0        1      172      0      0.0   \n",
       "1  232   57    1   0       165   289    1        0      124      0      1.0   \n",
       "2  220   48    1   0       130   256    1        0      150      1      0.0   \n",
       "3  184   58    1   2       112   230    0        0      165      0      2.5   \n",
       "4   25   40    1   3       140   199    0        1      178      1      1.4   \n",
       "\n",
       "   slope  ca  thal  \n",
       "0      2   1     2  \n",
       "1      1   3     3  \n",
       "2      2   2     3  \n",
       "3      1   1     3  \n",
       "4      2   0     3  "
      ]
     },
     "execution_count": 70,
     "metadata": {},
     "output_type": "execute_result"
    }
   ],
   "source": [
    "df_test.head()"
   ]
  },
  {
   "cell_type": "code",
   "execution_count": 71,
   "metadata": {},
   "outputs": [
    {
     "name": "stdout",
     "output_type": "stream",
     "text": [
      "(253, 15)\n",
      "(50, 14)\n"
     ]
    }
   ],
   "source": [
    "print(df.shape)\n",
    "print(df_test.shape)"
   ]
  },
  {
   "cell_type": "code",
   "execution_count": 72,
   "metadata": {},
   "outputs": [
    {
     "data": {
      "text/plain": [
       "ID          0\n",
       "age         0\n",
       "sex         0\n",
       "cp          0\n",
       "trestbps    0\n",
       "chol        0\n",
       "fbs         0\n",
       "restecg     0\n",
       "thalach     0\n",
       "exang       0\n",
       "oldpeak     0\n",
       "slope       0\n",
       "ca          0\n",
       "thal        0\n",
       "target      0\n",
       "dtype: int64"
      ]
     },
     "execution_count": 72,
     "metadata": {},
     "output_type": "execute_result"
    }
   ],
   "source": [
    "df.isnull().sum()"
   ]
  },
  {
   "cell_type": "code",
   "execution_count": 73,
   "metadata": {},
   "outputs": [],
   "source": [
    "x=df_new=df.drop(\"target\",axis=1)\n",
    "y=df.target"
   ]
  },
  {
   "cell_type": "code",
   "execution_count": 74,
   "metadata": {},
   "outputs": [
    {
     "data": {
      "text/html": [
       "<div>\n",
       "<style scoped>\n",
       "    .dataframe tbody tr th:only-of-type {\n",
       "        vertical-align: middle;\n",
       "    }\n",
       "\n",
       "    .dataframe tbody tr th {\n",
       "        vertical-align: top;\n",
       "    }\n",
       "\n",
       "    .dataframe thead th {\n",
       "        text-align: right;\n",
       "    }\n",
       "</style>\n",
       "<table border=\"1\" class=\"dataframe\">\n",
       "  <thead>\n",
       "    <tr style=\"text-align: right;\">\n",
       "      <th></th>\n",
       "      <th>ID</th>\n",
       "      <th>age</th>\n",
       "      <th>sex</th>\n",
       "      <th>cp</th>\n",
       "      <th>trestbps</th>\n",
       "      <th>chol</th>\n",
       "      <th>fbs</th>\n",
       "      <th>restecg</th>\n",
       "      <th>thalach</th>\n",
       "      <th>exang</th>\n",
       "      <th>oldpeak</th>\n",
       "      <th>slope</th>\n",
       "      <th>ca</th>\n",
       "      <th>thal</th>\n",
       "    </tr>\n",
       "  </thead>\n",
       "  <tbody>\n",
       "    <tr>\n",
       "      <th>0</th>\n",
       "      <td>29</td>\n",
       "      <td>65</td>\n",
       "      <td>0</td>\n",
       "      <td>2</td>\n",
       "      <td>140</td>\n",
       "      <td>417</td>\n",
       "      <td>1</td>\n",
       "      <td>0</td>\n",
       "      <td>157</td>\n",
       "      <td>0</td>\n",
       "      <td>0.8</td>\n",
       "      <td>2</td>\n",
       "      <td>1</td>\n",
       "      <td>2</td>\n",
       "    </tr>\n",
       "    <tr>\n",
       "      <th>1</th>\n",
       "      <td>57</td>\n",
       "      <td>48</td>\n",
       "      <td>1</td>\n",
       "      <td>0</td>\n",
       "      <td>122</td>\n",
       "      <td>222</td>\n",
       "      <td>0</td>\n",
       "      <td>0</td>\n",
       "      <td>186</td>\n",
       "      <td>0</td>\n",
       "      <td>0.0</td>\n",
       "      <td>2</td>\n",
       "      <td>0</td>\n",
       "      <td>2</td>\n",
       "    </tr>\n",
       "    <tr>\n",
       "      <th>2</th>\n",
       "      <td>9</td>\n",
       "      <td>52</td>\n",
       "      <td>1</td>\n",
       "      <td>2</td>\n",
       "      <td>172</td>\n",
       "      <td>199</td>\n",
       "      <td>1</td>\n",
       "      <td>1</td>\n",
       "      <td>162</td>\n",
       "      <td>0</td>\n",
       "      <td>0.5</td>\n",
       "      <td>2</td>\n",
       "      <td>0</td>\n",
       "      <td>3</td>\n",
       "    </tr>\n",
       "    <tr>\n",
       "      <th>3</th>\n",
       "      <td>147</td>\n",
       "      <td>44</td>\n",
       "      <td>0</td>\n",
       "      <td>2</td>\n",
       "      <td>118</td>\n",
       "      <td>242</td>\n",
       "      <td>0</td>\n",
       "      <td>1</td>\n",
       "      <td>149</td>\n",
       "      <td>0</td>\n",
       "      <td>0.3</td>\n",
       "      <td>1</td>\n",
       "      <td>1</td>\n",
       "      <td>2</td>\n",
       "    </tr>\n",
       "    <tr>\n",
       "      <th>4</th>\n",
       "      <td>303</td>\n",
       "      <td>57</td>\n",
       "      <td>0</td>\n",
       "      <td>1</td>\n",
       "      <td>130</td>\n",
       "      <td>236</td>\n",
       "      <td>0</td>\n",
       "      <td>0</td>\n",
       "      <td>174</td>\n",
       "      <td>0</td>\n",
       "      <td>0.0</td>\n",
       "      <td>1</td>\n",
       "      <td>1</td>\n",
       "      <td>2</td>\n",
       "    </tr>\n",
       "  </tbody>\n",
       "</table>\n",
       "</div>"
      ],
      "text/plain": [
       "    ID  age  sex  cp  trestbps  chol  fbs  restecg  thalach  exang  oldpeak  \\\n",
       "0   29   65    0   2       140   417    1        0      157      0      0.8   \n",
       "1   57   48    1   0       122   222    0        0      186      0      0.0   \n",
       "2    9   52    1   2       172   199    1        1      162      0      0.5   \n",
       "3  147   44    0   2       118   242    0        1      149      0      0.3   \n",
       "4  303   57    0   1       130   236    0        0      174      0      0.0   \n",
       "\n",
       "   slope  ca  thal  \n",
       "0      2   1     2  \n",
       "1      2   0     2  \n",
       "2      2   0     3  \n",
       "3      1   1     2  \n",
       "4      1   1     2  "
      ]
     },
     "execution_count": 74,
     "metadata": {},
     "output_type": "execute_result"
    }
   ],
   "source": [
    "x.head()"
   ]
  },
  {
   "cell_type": "code",
   "execution_count": 75,
   "metadata": {},
   "outputs": [
    {
     "data": {
      "text/plain": [
       "0    1\n",
       "1    1\n",
       "2    1\n",
       "3    1\n",
       "4    0\n",
       "Name: target, dtype: int64"
      ]
     },
     "execution_count": 75,
     "metadata": {},
     "output_type": "execute_result"
    }
   ],
   "source": [
    "y.head()"
   ]
  },
  {
   "cell_type": "code",
   "execution_count": 76,
   "metadata": {},
   "outputs": [],
   "source": [
    "x=x.drop(\"ID\",axis=1)"
   ]
  },
  {
   "cell_type": "code",
   "execution_count": 77,
   "metadata": {},
   "outputs": [
    {
     "data": {
      "text/html": [
       "<div>\n",
       "<style scoped>\n",
       "    .dataframe tbody tr th:only-of-type {\n",
       "        vertical-align: middle;\n",
       "    }\n",
       "\n",
       "    .dataframe tbody tr th {\n",
       "        vertical-align: top;\n",
       "    }\n",
       "\n",
       "    .dataframe thead th {\n",
       "        text-align: right;\n",
       "    }\n",
       "</style>\n",
       "<table border=\"1\" class=\"dataframe\">\n",
       "  <thead>\n",
       "    <tr style=\"text-align: right;\">\n",
       "      <th></th>\n",
       "      <th>age</th>\n",
       "      <th>sex</th>\n",
       "      <th>cp</th>\n",
       "      <th>trestbps</th>\n",
       "      <th>chol</th>\n",
       "      <th>fbs</th>\n",
       "      <th>restecg</th>\n",
       "      <th>thalach</th>\n",
       "      <th>exang</th>\n",
       "      <th>oldpeak</th>\n",
       "      <th>slope</th>\n",
       "      <th>ca</th>\n",
       "      <th>thal</th>\n",
       "    </tr>\n",
       "  </thead>\n",
       "  <tbody>\n",
       "    <tr>\n",
       "      <th>0</th>\n",
       "      <td>65</td>\n",
       "      <td>0</td>\n",
       "      <td>2</td>\n",
       "      <td>140</td>\n",
       "      <td>417</td>\n",
       "      <td>1</td>\n",
       "      <td>0</td>\n",
       "      <td>157</td>\n",
       "      <td>0</td>\n",
       "      <td>0.8</td>\n",
       "      <td>2</td>\n",
       "      <td>1</td>\n",
       "      <td>2</td>\n",
       "    </tr>\n",
       "    <tr>\n",
       "      <th>1</th>\n",
       "      <td>48</td>\n",
       "      <td>1</td>\n",
       "      <td>0</td>\n",
       "      <td>122</td>\n",
       "      <td>222</td>\n",
       "      <td>0</td>\n",
       "      <td>0</td>\n",
       "      <td>186</td>\n",
       "      <td>0</td>\n",
       "      <td>0.0</td>\n",
       "      <td>2</td>\n",
       "      <td>0</td>\n",
       "      <td>2</td>\n",
       "    </tr>\n",
       "    <tr>\n",
       "      <th>2</th>\n",
       "      <td>52</td>\n",
       "      <td>1</td>\n",
       "      <td>2</td>\n",
       "      <td>172</td>\n",
       "      <td>199</td>\n",
       "      <td>1</td>\n",
       "      <td>1</td>\n",
       "      <td>162</td>\n",
       "      <td>0</td>\n",
       "      <td>0.5</td>\n",
       "      <td>2</td>\n",
       "      <td>0</td>\n",
       "      <td>3</td>\n",
       "    </tr>\n",
       "    <tr>\n",
       "      <th>3</th>\n",
       "      <td>44</td>\n",
       "      <td>0</td>\n",
       "      <td>2</td>\n",
       "      <td>118</td>\n",
       "      <td>242</td>\n",
       "      <td>0</td>\n",
       "      <td>1</td>\n",
       "      <td>149</td>\n",
       "      <td>0</td>\n",
       "      <td>0.3</td>\n",
       "      <td>1</td>\n",
       "      <td>1</td>\n",
       "      <td>2</td>\n",
       "    </tr>\n",
       "    <tr>\n",
       "      <th>4</th>\n",
       "      <td>57</td>\n",
       "      <td>0</td>\n",
       "      <td>1</td>\n",
       "      <td>130</td>\n",
       "      <td>236</td>\n",
       "      <td>0</td>\n",
       "      <td>0</td>\n",
       "      <td>174</td>\n",
       "      <td>0</td>\n",
       "      <td>0.0</td>\n",
       "      <td>1</td>\n",
       "      <td>1</td>\n",
       "      <td>2</td>\n",
       "    </tr>\n",
       "  </tbody>\n",
       "</table>\n",
       "</div>"
      ],
      "text/plain": [
       "   age  sex  cp  trestbps  chol  fbs  restecg  thalach  exang  oldpeak  slope  \\\n",
       "0   65    0   2       140   417    1        0      157      0      0.8      2   \n",
       "1   48    1   0       122   222    0        0      186      0      0.0      2   \n",
       "2   52    1   2       172   199    1        1      162      0      0.5      2   \n",
       "3   44    0   2       118   242    0        1      149      0      0.3      1   \n",
       "4   57    0   1       130   236    0        0      174      0      0.0      1   \n",
       "\n",
       "   ca  thal  \n",
       "0   1     2  \n",
       "1   0     2  \n",
       "2   0     3  \n",
       "3   1     2  \n",
       "4   1     2  "
      ]
     },
     "execution_count": 77,
     "metadata": {},
     "output_type": "execute_result"
    }
   ],
   "source": [
    "x.head()"
   ]
  },
  {
   "cell_type": "code",
   "execution_count": 78,
   "metadata": {},
   "outputs": [
    {
     "data": {
      "text/plain": [
       "Index(['age', 'sex', 'cp', 'trestbps', 'chol', 'fbs', 'restecg', 'thalach',\n",
       "       'exang', 'oldpeak', 'slope', 'ca', 'thal'],\n",
       "      dtype='object')"
      ]
     },
     "execution_count": 78,
     "metadata": {},
     "output_type": "execute_result"
    }
   ],
   "source": [
    "x.columns"
   ]
  },
  {
   "cell_type": "code",
   "execution_count": 47,
   "metadata": {},
   "outputs": [
    {
     "data": {
      "text/plain": [
       "Text(0.5, 1.0, 'Top Features derived by Random Forest')"
      ]
     },
     "execution_count": 47,
     "metadata": {},
     "output_type": "execute_result"
    },
    {
     "data": {
      "image/png": "[encoded data removed]",
      "text/plain": [
       "<Figure size 576x288 with 1 Axes>"
      ]
     },
     "metadata": {
      "needs_background": "light"
     },
     "output_type": "display_data"
    }
   ],
   "source": [
    "from sklearn.ensemble import RandomForestClassifier\n",
    "import matplotlib.pyplot as plt\n",
    "rfc = RandomForestClassifier(random_state=12, n_estimators=100)\n",
    "rfc_model = rfc.fit(x, y)\n",
    "\n",
    "(pd.Series(rfc_model.feature_importances_, index=x.columns)\n",
    "    .nlargest(13)\n",
    "    .plot(kind='barh', figsize=[8,4])\n",
    "    .invert_yaxis())\n",
    "\n",
    "plt.yticks(size=15)\n",
    "plt.title('Top Features derived by Random Forest', size=20)"
   ]
  },
  {
   "cell_type": "code",
   "execution_count": 48,
   "metadata": {},
   "outputs": [],
   "source": [
    "selected_feature=x[['cp', 'trestbps','oldpeak','thal', 'ca','exang','age', 'trestbps','chol','slope', 'sex']]"
   ]
  },
  {
   "cell_type": "code",
   "execution_count": 49,
   "metadata": {},
   "outputs": [
    {
     "data": {
      "text/html": [
       "<div>\n",
       "<style scoped>\n",
       "    .dataframe tbody tr th:only-of-type {\n",
       "        vertical-align: middle;\n",
       "    }\n",
       "\n",
       "    .dataframe tbody tr th {\n",
       "        vertical-align: top;\n",
       "    }\n",
       "\n",
       "    .dataframe thead th {\n",
       "        text-align: right;\n",
       "    }\n",
       "</style>\n",
       "<table border=\"1\" class=\"dataframe\">\n",
       "  <thead>\n",
       "    <tr style=\"text-align: right;\">\n",
       "      <th></th>\n",
       "      <th>cp</th>\n",
       "      <th>trestbps</th>\n",
       "      <th>oldpeak</th>\n",
       "      <th>thal</th>\n",
       "      <th>ca</th>\n",
       "      <th>exang</th>\n",
       "      <th>age</th>\n",
       "      <th>trestbps</th>\n",
       "      <th>chol</th>\n",
       "      <th>slope</th>\n",
       "      <th>sex</th>\n",
       "    </tr>\n",
       "  </thead>\n",
       "  <tbody>\n",
       "    <tr>\n",
       "      <th>0</th>\n",
       "      <td>2</td>\n",
       "      <td>140</td>\n",
       "      <td>0.8</td>\n",
       "      <td>2</td>\n",
       "      <td>1</td>\n",
       "      <td>0</td>\n",
       "      <td>65</td>\n",
       "      <td>140</td>\n",
       "      <td>417</td>\n",
       "      <td>2</td>\n",
       "      <td>0</td>\n",
       "    </tr>\n",
       "    <tr>\n",
       "      <th>1</th>\n",
       "      <td>0</td>\n",
       "      <td>122</td>\n",
       "      <td>0.0</td>\n",
       "      <td>2</td>\n",
       "      <td>0</td>\n",
       "      <td>0</td>\n",
       "      <td>48</td>\n",
       "      <td>122</td>\n",
       "      <td>222</td>\n",
       "      <td>2</td>\n",
       "      <td>1</td>\n",
       "    </tr>\n",
       "    <tr>\n",
       "      <th>2</th>\n",
       "      <td>2</td>\n",
       "      <td>172</td>\n",
       "      <td>0.5</td>\n",
       "      <td>3</td>\n",
       "      <td>0</td>\n",
       "      <td>0</td>\n",
       "      <td>52</td>\n",
       "      <td>172</td>\n",
       "      <td>199</td>\n",
       "      <td>2</td>\n",
       "      <td>1</td>\n",
       "    </tr>\n",
       "    <tr>\n",
       "      <th>3</th>\n",
       "      <td>2</td>\n",
       "      <td>118</td>\n",
       "      <td>0.3</td>\n",
       "      <td>2</td>\n",
       "      <td>1</td>\n",
       "      <td>0</td>\n",
       "      <td>44</td>\n",
       "      <td>118</td>\n",
       "      <td>242</td>\n",
       "      <td>1</td>\n",
       "      <td>0</td>\n",
       "    </tr>\n",
       "    <tr>\n",
       "      <th>4</th>\n",
       "      <td>1</td>\n",
       "      <td>130</td>\n",
       "      <td>0.0</td>\n",
       "      <td>2</td>\n",
       "      <td>1</td>\n",
       "      <td>0</td>\n",
       "      <td>57</td>\n",
       "      <td>130</td>\n",
       "      <td>236</td>\n",
       "      <td>1</td>\n",
       "      <td>0</td>\n",
       "    </tr>\n",
       "  </tbody>\n",
       "</table>\n",
       "</div>"
      ],
      "text/plain": [
       "   cp  trestbps  oldpeak  thal  ca  exang  age  trestbps  chol  slope  sex\n",
       "0   2       140      0.8     2   1      0   65       140   417      2    0\n",
       "1   0       122      0.0     2   0      0   48       122   222      2    1\n",
       "2   2       172      0.5     3   0      0   52       172   199      2    1\n",
       "3   2       118      0.3     2   1      0   44       118   242      1    0\n",
       "4   1       130      0.0     2   1      0   57       130   236      1    0"
      ]
     },
     "execution_count": 49,
     "metadata": {},
     "output_type": "execute_result"
    }
   ],
   "source": [
    "selected_feature.head()"
   ]
  },
  {
   "cell_type": "code",
   "execution_count": 50,
   "metadata": {},
   "outputs": [],
   "source": [
    "a=x[['age', 'sex', 'cp', 'trestbps', 'chol', 'fbs', 'restecg']]\n",
    "b=x[['thalach','exang', 'oldpeak', 'slope', 'ca', 'thal']]"
   ]
  },
  {
   "cell_type": "code",
   "execution_count": 102,
   "metadata": {},
   "outputs": [
    {
     "data": {
      "image/png": "[encoded data removed]",
      "text/plain": [
       "<Figure size 1440x720 with 16 Axes>"
      ]
     },
     "metadata": {
      "needs_background": "light"
     },
     "output_type": "display_data"
    }
   ],
   "source": [
    "\n",
    "import pandas\n",
    "plt.rcParams[\"figure.figsize\"] = (20,10)\n",
    "x.hist()\n",
    "plt.show()"
   ]
  },
  {
   "cell_type": "code",
   "execution_count": 110,
   "metadata": {},
   "outputs": [
    {
     "data": {
      "image/png": "[encoded data removed]",
      "text/plain": [
       "<Figure size 1440x720 with 49 Axes>"
      ]
     },
     "metadata": {
      "needs_background": "light"
     },
     "output_type": "display_data"
    }
   ],
   "source": [
    "from pandas.plotting import scatter_matrix\n",
    "plt.rcParams[\"figure.figsize\"] = (20,10)\n",
    "scatter_matrix(a)\n",
    "plt.show()"
   ]
  },
  {
   "cell_type": "code",
   "execution_count": 111,
   "metadata": {},
   "outputs": [
    {
     "data": {
      "image/png": "[encoded data removed]",
      "text/plain": [
       "<Figure size 1440x720 with 36 Axes>"
      ]
     },
     "metadata": {
      "needs_background": "light"
     },
     "output_type": "display_data"
    }
   ],
   "source": [
    "from pandas.plotting import scatter_matrix\n",
    "plt.rcParams[\"figure.figsize\"] = (20,10)\n",
    "scatter_matrix(b)\n",
    "plt.show()"
   ]
  },
  {
   "cell_type": "code",
   "execution_count": 113,
   "metadata": {},
   "outputs": [
    {
     "data": {
      "text/html": [
       "<div>\n",
       "<style scoped>\n",
       "    .dataframe tbody tr th:only-of-type {\n",
       "        vertical-align: middle;\n",
       "    }\n",
       "\n",
       "    .dataframe tbody tr th {\n",
       "        vertical-align: top;\n",
       "    }\n",
       "\n",
       "    .dataframe thead th {\n",
       "        text-align: right;\n",
       "    }\n",
       "</style>\n",
       "<table border=\"1\" class=\"dataframe\">\n",
       "  <thead>\n",
       "    <tr style=\"text-align: right;\">\n",
       "      <th></th>\n",
       "      <th>ID</th>\n",
       "      <th>age</th>\n",
       "      <th>sex</th>\n",
       "      <th>cp</th>\n",
       "      <th>trestbps</th>\n",
       "      <th>chol</th>\n",
       "      <th>fbs</th>\n",
       "      <th>restecg</th>\n",
       "      <th>thalach</th>\n",
       "      <th>exang</th>\n",
       "      <th>oldpeak</th>\n",
       "      <th>slope</th>\n",
       "      <th>ca</th>\n",
       "      <th>thal</th>\n",
       "      <th>target</th>\n",
       "    </tr>\n",
       "  </thead>\n",
       "  <tbody>\n",
       "    <tr>\n",
       "      <th>ID</th>\n",
       "      <td>1.000000</td>\n",
       "      <td>0.172234</td>\n",
       "      <td>0.198785</td>\n",
       "      <td>-0.348018</td>\n",
       "      <td>0.121732</td>\n",
       "      <td>-0.012450</td>\n",
       "      <td>0.010519</td>\n",
       "      <td>0.008488</td>\n",
       "      <td>-0.412642</td>\n",
       "      <td>0.397218</td>\n",
       "      <td>0.290046</td>\n",
       "      <td>-0.257103</td>\n",
       "      <td>0.375470</td>\n",
       "      <td>0.269244</td>\n",
       "      <td>-0.866391</td>\n",
       "    </tr>\n",
       "    <tr>\n",
       "      <th>age</th>\n",
       "      <td>0.172234</td>\n",
       "      <td>1.000000</td>\n",
       "      <td>-0.097568</td>\n",
       "      <td>-0.047036</td>\n",
       "      <td>0.269714</td>\n",
       "      <td>0.193554</td>\n",
       "      <td>0.100004</td>\n",
       "      <td>-0.114881</td>\n",
       "      <td>-0.416952</td>\n",
       "      <td>0.123058</td>\n",
       "      <td>0.221756</td>\n",
       "      <td>-0.166574</td>\n",
       "      <td>0.262633</td>\n",
       "      <td>0.060891</td>\n",
       "      <td>-0.234145</td>\n",
       "    </tr>\n",
       "    <tr>\n",
       "      <th>sex</th>\n",
       "      <td>0.198785</td>\n",
       "      <td>-0.097568</td>\n",
       "      <td>1.000000</td>\n",
       "      <td>-0.013036</td>\n",
       "      <td>-0.026716</td>\n",
       "      <td>-0.181231</td>\n",
       "      <td>0.100135</td>\n",
       "      <td>-0.084655</td>\n",
       "      <td>0.015444</td>\n",
       "      <td>0.136478</td>\n",
       "      <td>0.096863</td>\n",
       "      <td>-0.028669</td>\n",
       "      <td>0.137520</td>\n",
       "      <td>0.220136</td>\n",
       "      <td>-0.318666</td>\n",
       "    </tr>\n",
       "    <tr>\n",
       "      <th>cp</th>\n",
       "      <td>-0.348018</td>\n",
       "      <td>-0.047036</td>\n",
       "      <td>-0.013036</td>\n",
       "      <td>1.000000</td>\n",
       "      <td>0.064463</td>\n",
       "      <td>-0.049294</td>\n",
       "      <td>0.118727</td>\n",
       "      <td>0.033345</td>\n",
       "      <td>0.272585</td>\n",
       "      <td>-0.434243</td>\n",
       "      <td>-0.120185</td>\n",
       "      <td>0.093984</td>\n",
       "      <td>-0.123558</td>\n",
       "      <td>-0.176697</td>\n",
       "      <td>0.397858</td>\n",
       "    </tr>\n",
       "    <tr>\n",
       "      <th>trestbps</th>\n",
       "      <td>0.121732</td>\n",
       "      <td>0.269714</td>\n",
       "      <td>-0.026716</td>\n",
       "      <td>0.064463</td>\n",
       "      <td>1.000000</td>\n",
       "      <td>0.107065</td>\n",
       "      <td>0.169342</td>\n",
       "      <td>-0.072283</td>\n",
       "      <td>-0.079355</td>\n",
       "      <td>0.067098</td>\n",
       "      <td>0.206615</td>\n",
       "      <td>-0.122464</td>\n",
       "      <td>0.097582</td>\n",
       "      <td>0.031946</td>\n",
       "      <td>-0.167177</td>\n",
       "    </tr>\n",
       "    <tr>\n",
       "      <th>chol</th>\n",
       "      <td>-0.012450</td>\n",
       "      <td>0.193554</td>\n",
       "      <td>-0.181231</td>\n",
       "      <td>-0.049294</td>\n",
       "      <td>0.107065</td>\n",
       "      <td>1.000000</td>\n",
       "      <td>-0.015226</td>\n",
       "      <td>-0.135582</td>\n",
       "      <td>-0.003785</td>\n",
       "      <td>0.101345</td>\n",
       "      <td>0.015427</td>\n",
       "      <td>0.008472</td>\n",
       "      <td>0.018424</td>\n",
       "      <td>0.096053</td>\n",
       "      <td>-0.035225</td>\n",
       "    </tr>\n",
       "    <tr>\n",
       "      <th>fbs</th>\n",
       "      <td>0.010519</td>\n",
       "      <td>0.100004</td>\n",
       "      <td>0.100135</td>\n",
       "      <td>0.118727</td>\n",
       "      <td>0.169342</td>\n",
       "      <td>-0.015226</td>\n",
       "      <td>1.000000</td>\n",
       "      <td>-0.106056</td>\n",
       "      <td>-0.000066</td>\n",
       "      <td>0.033534</td>\n",
       "      <td>0.049006</td>\n",
       "      <td>-0.093053</td>\n",
       "      <td>0.088327</td>\n",
       "      <td>-0.072892</td>\n",
       "      <td>-0.021886</td>\n",
       "    </tr>\n",
       "    <tr>\n",
       "      <th>restecg</th>\n",
       "      <td>0.008488</td>\n",
       "      <td>-0.114881</td>\n",
       "      <td>-0.084655</td>\n",
       "      <td>0.033345</td>\n",
       "      <td>-0.072283</td>\n",
       "      <td>-0.135582</td>\n",
       "      <td>-0.106056</td>\n",
       "      <td>1.000000</td>\n",
       "      <td>0.067636</td>\n",
       "      <td>-0.061454</td>\n",
       "      <td>-0.053963</td>\n",
       "      <td>0.117369</td>\n",
       "      <td>-0.091516</td>\n",
       "      <td>0.021055</td>\n",
       "      <td>0.108372</td>\n",
       "    </tr>\n",
       "    <tr>\n",
       "      <th>thalach</th>\n",
       "      <td>-0.412642</td>\n",
       "      <td>-0.416952</td>\n",
       "      <td>0.015444</td>\n",
       "      <td>0.272585</td>\n",
       "      <td>-0.079355</td>\n",
       "      <td>-0.003785</td>\n",
       "      <td>-0.000066</td>\n",
       "      <td>0.067636</td>\n",
       "      <td>1.000000</td>\n",
       "      <td>-0.395844</td>\n",
       "      <td>-0.364818</td>\n",
       "      <td>0.415242</td>\n",
       "      <td>-0.221814</td>\n",
       "      <td>-0.101264</td>\n",
       "      <td>0.440193</td>\n",
       "    </tr>\n",
       "    <tr>\n",
       "      <th>exang</th>\n",
       "      <td>0.397218</td>\n",
       "      <td>0.123058</td>\n",
       "      <td>0.136478</td>\n",
       "      <td>-0.434243</td>\n",
       "      <td>0.067098</td>\n",
       "      <td>0.101345</td>\n",
       "      <td>0.033534</td>\n",
       "      <td>-0.061454</td>\n",
       "      <td>-0.395844</td>\n",
       "      <td>1.000000</td>\n",
       "      <td>0.305029</td>\n",
       "      <td>-0.254278</td>\n",
       "      <td>0.148762</td>\n",
       "      <td>0.200907</td>\n",
       "      <td>-0.479824</td>\n",
       "    </tr>\n",
       "    <tr>\n",
       "      <th>oldpeak</th>\n",
       "      <td>0.290046</td>\n",
       "      <td>0.221756</td>\n",
       "      <td>0.096863</td>\n",
       "      <td>-0.120185</td>\n",
       "      <td>0.206615</td>\n",
       "      <td>0.015427</td>\n",
       "      <td>0.049006</td>\n",
       "      <td>-0.053963</td>\n",
       "      <td>-0.364818</td>\n",
       "      <td>0.305029</td>\n",
       "      <td>1.000000</td>\n",
       "      <td>-0.575930</td>\n",
       "      <td>0.175787</td>\n",
       "      <td>0.241014</td>\n",
       "      <td>-0.429569</td>\n",
       "    </tr>\n",
       "    <tr>\n",
       "      <th>slope</th>\n",
       "      <td>-0.257103</td>\n",
       "      <td>-0.166574</td>\n",
       "      <td>-0.028669</td>\n",
       "      <td>0.093984</td>\n",
       "      <td>-0.122464</td>\n",
       "      <td>0.008472</td>\n",
       "      <td>-0.093053</td>\n",
       "      <td>0.117369</td>\n",
       "      <td>0.415242</td>\n",
       "      <td>-0.254278</td>\n",
       "      <td>-0.575930</td>\n",
       "      <td>1.000000</td>\n",
       "      <td>-0.031109</td>\n",
       "      <td>-0.099867</td>\n",
       "      <td>0.341142</td>\n",
       "    </tr>\n",
       "    <tr>\n",
       "      <th>ca</th>\n",
       "      <td>0.375470</td>\n",
       "      <td>0.262633</td>\n",
       "      <td>0.137520</td>\n",
       "      <td>-0.123558</td>\n",
       "      <td>0.097582</td>\n",
       "      <td>0.018424</td>\n",
       "      <td>0.088327</td>\n",
       "      <td>-0.091516</td>\n",
       "      <td>-0.221814</td>\n",
       "      <td>0.148762</td>\n",
       "      <td>0.175787</td>\n",
       "      <td>-0.031109</td>\n",
       "      <td>1.000000</td>\n",
       "      <td>0.110100</td>\n",
       "      <td>-0.375225</td>\n",
       "    </tr>\n",
       "    <tr>\n",
       "      <th>thal</th>\n",
       "      <td>0.269244</td>\n",
       "      <td>0.060891</td>\n",
       "      <td>0.220136</td>\n",
       "      <td>-0.176697</td>\n",
       "      <td>0.031946</td>\n",
       "      <td>0.096053</td>\n",
       "      <td>-0.072892</td>\n",
       "      <td>0.021055</td>\n",
       "      <td>-0.101264</td>\n",
       "      <td>0.200907</td>\n",
       "      <td>0.241014</td>\n",
       "      <td>-0.099867</td>\n",
       "      <td>0.110100</td>\n",
       "      <td>1.000000</td>\n",
       "      <td>-0.344250</td>\n",
       "    </tr>\n",
       "    <tr>\n",
       "      <th>target</th>\n",
       "      <td>-0.866391</td>\n",
       "      <td>-0.234145</td>\n",
       "      <td>-0.318666</td>\n",
       "      <td>0.397858</td>\n",
       "      <td>-0.167177</td>\n",
       "      <td>-0.035225</td>\n",
       "      <td>-0.021886</td>\n",
       "      <td>0.108372</td>\n",
       "      <td>0.440193</td>\n",
       "      <td>-0.479824</td>\n",
       "      <td>-0.429569</td>\n",
       "      <td>0.341142</td>\n",
       "      <td>-0.375225</td>\n",
       "      <td>-0.344250</td>\n",
       "      <td>1.000000</td>\n",
       "    </tr>\n",
       "  </tbody>\n",
       "</table>\n",
       "</div>"
      ],
      "text/plain": [
       "                ID       age       sex        cp  trestbps      chol  \\\n",
       "ID        1.000000  0.172234  0.198785 -0.348018  0.121732 -0.012450   \n",
       "age       0.172234  1.000000 -0.097568 -0.047036  0.269714  0.193554   \n",
       "sex       0.198785 -0.097568  1.000000 -0.013036 -0.026716 -0.181231   \n",
       "cp       -0.348018 -0.047036 -0.013036  1.000000  0.064463 -0.049294   \n",
       "trestbps  0.121732  0.269714 -0.026716  0.064463  1.000000  0.107065   \n",
       "chol     -0.012450  0.193554 -0.181231 -0.049294  0.107065  1.000000   \n",
       "fbs       0.010519  0.100004  0.100135  0.118727  0.169342 -0.015226   \n",
       "restecg   0.008488 -0.114881 -0.084655  0.033345 -0.072283 -0.135582   \n",
       "thalach  -0.412642 -0.416952  0.015444  0.272585 -0.079355 -0.003785   \n",
       "exang     0.397218  0.123058  0.136478 -0.434243  0.067098  0.101345   \n",
       "oldpeak   0.290046  0.221756  0.096863 -0.120185  0.206615  0.015427   \n",
       "slope    -0.257103 -0.166574 -0.028669  0.093984 -0.122464  0.008472   \n",
       "ca        0.375470  0.262633  0.137520 -0.123558  0.097582  0.018424   \n",
       "thal      0.269244  0.060891  0.220136 -0.176697  0.031946  0.096053   \n",
       "target   -0.866391 -0.234145 -0.318666  0.397858 -0.167177 -0.035225   \n",
       "\n",
       "               fbs   restecg   thalach     exang   oldpeak     slope  \\\n",
       "ID        0.010519  0.008488 -0.412642  0.397218  0.290046 -0.257103   \n",
       "age       0.100004 -0.114881 -0.416952  0.123058  0.221756 -0.166574   \n",
       "sex       0.100135 -0.084655  0.015444  0.136478  0.096863 -0.028669   \n",
       "cp        0.118727  0.033345  0.272585 -0.434243 -0.120185  0.093984   \n",
       "trestbps  0.169342 -0.072283 -0.079355  0.067098  0.206615 -0.122464   \n",
       "chol     -0.015226 -0.135582 -0.003785  0.101345  0.015427  0.008472   \n",
       "fbs       1.000000 -0.106056 -0.000066  0.033534  0.049006 -0.093053   \n",
       "restecg  -0.106056  1.000000  0.067636 -0.061454 -0.053963  0.117369   \n",
       "thalach  -0.000066  0.067636  1.000000 -0.395844 -0.364818  0.415242   \n",
       "exang     0.033534 -0.061454 -0.395844  1.000000  0.305029 -0.254278   \n",
       "oldpeak   0.049006 -0.053963 -0.364818  0.305029  1.000000 -0.575930   \n",
       "slope    -0.093053  0.117369  0.415242 -0.254278 -0.575930  1.000000   \n",
       "ca        0.088327 -0.091516 -0.221814  0.148762  0.175787 -0.031109   \n",
       "thal     -0.072892  0.021055 -0.101264  0.200907  0.241014 -0.099867   \n",
       "target   -0.021886  0.108372  0.440193 -0.479824 -0.429569  0.341142   \n",
       "\n",
       "                ca      thal    target  \n",
       "ID        0.375470  0.269244 -0.866391  \n",
       "age       0.262633  0.060891 -0.234145  \n",
       "sex       0.137520  0.220136 -0.318666  \n",
       "cp       -0.123558 -0.176697  0.397858  \n",
       "trestbps  0.097582  0.031946 -0.167177  \n",
       "chol      0.018424  0.096053 -0.035225  \n",
       "fbs       0.088327 -0.072892 -0.021886  \n",
       "restecg  -0.091516  0.021055  0.108372  \n",
       "thalach  -0.221814 -0.101264  0.440193  \n",
       "exang     0.148762  0.200907 -0.479824  \n",
       "oldpeak   0.175787  0.241014 -0.429569  \n",
       "slope    -0.031109 -0.099867  0.341142  \n",
       "ca        1.000000  0.110100 -0.375225  \n",
       "thal      0.110100  1.000000 -0.344250  \n",
       "target   -0.375225 -0.344250  1.000000  "
      ]
     },
     "execution_count": 113,
     "metadata": {},
     "output_type": "execute_result"
    }
   ],
   "source": [
    "df.corr(method ='pearson')"
   ]
  },
  {
   "cell_type": "code",
   "execution_count": 114,
   "metadata": {},
   "outputs": [
    {
     "data": {
      "image/png": "[encoded data removed]",
      "text/plain": [
       "<Figure size 720x720 with 2 Axes>"
      ]
     },
     "metadata": {
      "needs_background": "light"
     },
     "output_type": "display_data"
    }
   ],
   "source": [
    "plt.matshow(df.corr())\n",
    "plt.xticks(range(len(df.columns)), df.columns)\n",
    "plt.yticks(range(len(df.columns)), df.columns)\n",
    "plt.colorbar()\n",
    "plt.show()"
   ]
  },
  {
   "cell_type": "code",
   "execution_count": 116,
   "metadata": {},
   "outputs": [
    {
     "data": {
      "text/html": [
       "<style  type=\"text/css\" >\n",
       "#T_764e87f8_0a4b_11eb_86c5_171e598b9122row0_col0,#T_764e87f8_0a4b_11eb_86c5_171e598b9122row1_col1,#T_764e87f8_0a4b_11eb_86c5_171e598b9122row2_col2,#T_764e87f8_0a4b_11eb_86c5_171e598b9122row3_col3,#T_764e87f8_0a4b_11eb_86c5_171e598b9122row4_col4,#T_764e87f8_0a4b_11eb_86c5_171e598b9122row5_col5,#T_764e87f8_0a4b_11eb_86c5_171e598b9122row6_col6,#T_764e87f8_0a4b_11eb_86c5_171e598b9122row7_col7,#T_764e87f8_0a4b_11eb_86c5_171e598b9122row8_col8,#T_764e87f8_0a4b_11eb_86c5_171e598b9122row9_col9,#T_764e87f8_0a4b_11eb_86c5_171e598b9122row10_col10,#T_764e87f8_0a4b_11eb_86c5_171e598b9122row11_col11,#T_764e87f8_0a4b_11eb_86c5_171e598b9122row12_col12{\n",
       "            background-color:  #b40426;\n",
       "            color:  #f1f1f1;\n",
       "        }#T_764e87f8_0a4b_11eb_86c5_171e598b9122row0_col1,#T_764e87f8_0a4b_11eb_86c5_171e598b9122row9_col6{\n",
       "            background-color:  #506bda;\n",
       "            color:  #000000;\n",
       "        }#T_764e87f8_0a4b_11eb_86c5_171e598b9122row0_col2,#T_764e87f8_0a4b_11eb_86c5_171e598b9122row11_col1,#T_764e87f8_0a4b_11eb_86c5_171e598b9122row12_col11{\n",
       "            background-color:  #94b6ff;\n",
       "            color:  #000000;\n",
       "        }#T_764e87f8_0a4b_11eb_86c5_171e598b9122row0_col3,#T_764e87f8_0a4b_11eb_86c5_171e598b9122row3_col2,#T_764e87f8_0a4b_11eb_86c5_171e598b9122row3_col8{\n",
       "            background-color:  #afcafc;\n",
       "            color:  #000000;\n",
       "        }#T_764e87f8_0a4b_11eb_86c5_171e598b9122row0_col4{\n",
       "            background-color:  #a5c3fe;\n",
       "            color:  #000000;\n",
       "        }#T_764e87f8_0a4b_11eb_86c5_171e598b9122row0_col5,#T_764e87f8_0a4b_11eb_86c5_171e598b9122row1_col5{\n",
       "            background-color:  #7699f6;\n",
       "            color:  #000000;\n",
       "        }#T_764e87f8_0a4b_11eb_86c5_171e598b9122row0_col6{\n",
       "            background-color:  #3f53c6;\n",
       "            color:  #f1f1f1;\n",
       "        }#T_764e87f8_0a4b_11eb_86c5_171e598b9122row0_col7,#T_764e87f8_0a4b_11eb_86c5_171e598b9122row1_col4,#T_764e87f8_0a4b_11eb_86c5_171e598b9122row2_col8,#T_764e87f8_0a4b_11eb_86c5_171e598b9122row2_col12,#T_764e87f8_0a4b_11eb_86c5_171e598b9122row4_col1,#T_764e87f8_0a4b_11eb_86c5_171e598b9122row4_col6,#T_764e87f8_0a4b_11eb_86c5_171e598b9122row6_col5,#T_764e87f8_0a4b_11eb_86c5_171e598b9122row7_col0,#T_764e87f8_0a4b_11eb_86c5_171e598b9122row7_col11,#T_764e87f8_0a4b_11eb_86c5_171e598b9122row8_col2,#T_764e87f8_0a4b_11eb_86c5_171e598b9122row9_col10,#T_764e87f8_0a4b_11eb_86c5_171e598b9122row10_col3,#T_764e87f8_0a4b_11eb_86c5_171e598b9122row10_col9{\n",
       "            background-color:  #3b4cc0;\n",
       "            color:  #f1f1f1;\n",
       "        }#T_764e87f8_0a4b_11eb_86c5_171e598b9122row0_col8{\n",
       "            background-color:  #bcd2f7;\n",
       "            color:  #000000;\n",
       "        }#T_764e87f8_0a4b_11eb_86c5_171e598b9122row0_col9{\n",
       "            background-color:  #dedcdb;\n",
       "            color:  #000000;\n",
       "        }#T_764e87f8_0a4b_11eb_86c5_171e598b9122row0_col10,#T_764e87f8_0a4b_11eb_86c5_171e598b9122row2_col0,#T_764e87f8_0a4b_11eb_86c5_171e598b9122row3_col11,#T_764e87f8_0a4b_11eb_86c5_171e598b9122row5_col3,#T_764e87f8_0a4b_11eb_86c5_171e598b9122row6_col8{\n",
       "            background-color:  #90b2fe;\n",
       "            color:  #000000;\n",
       "        }#T_764e87f8_0a4b_11eb_86c5_171e598b9122row0_col11,#T_764e87f8_0a4b_11eb_86c5_171e598b9122row1_col8,#T_764e87f8_0a4b_11eb_86c5_171e598b9122row5_col9{\n",
       "            background-color:  #bfd3f6;\n",
       "            color:  #000000;\n",
       "        }#T_764e87f8_0a4b_11eb_86c5_171e598b9122row0_col12{\n",
       "            background-color:  #7b9ff9;\n",
       "            color:  #000000;\n",
       "        }#T_764e87f8_0a4b_11eb_86c5_171e598b9122row1_col0,#T_764e87f8_0a4b_11eb_86c5_171e598b9122row10_col6,#T_764e87f8_0a4b_11eb_86c5_171e598b9122row12_col7{\n",
       "            background-color:  #84a7fc;\n",
       "            color:  #000000;\n",
       "        }#T_764e87f8_0a4b_11eb_86c5_171e598b9122row1_col2,#T_764e87f8_0a4b_11eb_86c5_171e598b9122row1_col11,#T_764e87f8_0a4b_11eb_86c5_171e598b9122row5_col7,#T_764e87f8_0a4b_11eb_86c5_171e598b9122row9_col3{\n",
       "            background-color:  #9dbdff;\n",
       "            color:  #000000;\n",
       "        }#T_764e87f8_0a4b_11eb_86c5_171e598b9122row1_col3,#T_764e87f8_0a4b_11eb_86c5_171e598b9122row4_col5{\n",
       "            background-color:  #5470de;\n",
       "            color:  #000000;\n",
       "        }#T_764e87f8_0a4b_11eb_86c5_171e598b9122row1_col6,#T_764e87f8_0a4b_11eb_86c5_171e598b9122row6_col3{\n",
       "            background-color:  #485fd1;\n",
       "            color:  #f1f1f1;\n",
       "        }#T_764e87f8_0a4b_11eb_86c5_171e598b9122row1_col7,#T_764e87f8_0a4b_11eb_86c5_171e598b9122row5_col10{\n",
       "            background-color:  #a1c0ff;\n",
       "            color:  #000000;\n",
       "        }#T_764e87f8_0a4b_11eb_86c5_171e598b9122row1_col9{\n",
       "            background-color:  #c9d7f0;\n",
       "            color:  #000000;\n",
       "        }#T_764e87f8_0a4b_11eb_86c5_171e598b9122row1_col10,#T_764e87f8_0a4b_11eb_86c5_171e598b9122row11_col10{\n",
       "            background-color:  #aec9fc;\n",
       "            color:  #000000;\n",
       "        }#T_764e87f8_0a4b_11eb_86c5_171e598b9122row1_col12,#T_764e87f8_0a4b_11eb_86c5_171e598b9122row12_col0,#T_764e87f8_0a4b_11eb_86c5_171e598b9122row12_col1{\n",
       "            background-color:  #abc8fd;\n",
       "            color:  #000000;\n",
       "        }#T_764e87f8_0a4b_11eb_86c5_171e598b9122row2_col1{\n",
       "            background-color:  #6788ee;\n",
       "            color:  #000000;\n",
       "        }#T_764e87f8_0a4b_11eb_86c5_171e598b9122row2_col3,#T_764e87f8_0a4b_11eb_86c5_171e598b9122row7_col1,#T_764e87f8_0a4b_11eb_86c5_171e598b9122row9_col4{\n",
       "            background-color:  #6f92f3;\n",
       "            color:  #000000;\n",
       "        }#T_764e87f8_0a4b_11eb_86c5_171e598b9122row2_col4{\n",
       "            background-color:  #5d7ce6;\n",
       "            color:  #000000;\n",
       "        }#T_764e87f8_0a4b_11eb_86c5_171e598b9122row2_col5,#T_764e87f8_0a4b_11eb_86c5_171e598b9122row4_col3,#T_764e87f8_0a4b_11eb_86c5_171e598b9122row8_col10{\n",
       "            background-color:  #7da0f9;\n",
       "            color:  #000000;\n",
       "        }#T_764e87f8_0a4b_11eb_86c5_171e598b9122row2_col6,#T_764e87f8_0a4b_11eb_86c5_171e598b9122row7_col4{\n",
       "            background-color:  #6a8bef;\n",
       "            color:  #000000;\n",
       "        }#T_764e87f8_0a4b_11eb_86c5_171e598b9122row2_col7,#T_764e87f8_0a4b_11eb_86c5_171e598b9122row3_col0{\n",
       "            background-color:  #d9dce1;\n",
       "            color:  #000000;\n",
       "        }#T_764e87f8_0a4b_11eb_86c5_171e598b9122row2_col9,#T_764e87f8_0a4b_11eb_86c5_171e598b9122row4_col7{\n",
       "            background-color:  #9bbcff;\n",
       "            color:  #000000;\n",
       "        }#T_764e87f8_0a4b_11eb_86c5_171e598b9122row2_col10{\n",
       "            background-color:  #c7d7f0;\n",
       "            color:  #000000;\n",
       "        }#T_764e87f8_0a4b_11eb_86c5_171e598b9122row2_col11,#T_764e87f8_0a4b_11eb_86c5_171e598b9122row6_col1{\n",
       "            background-color:  #536edd;\n",
       "            color:  #000000;\n",
       "        }#T_764e87f8_0a4b_11eb_86c5_171e598b9122row3_col1,#T_764e87f8_0a4b_11eb_86c5_171e598b9122row10_col1{\n",
       "            background-color:  #6384eb;\n",
       "            color:  #000000;\n",
       "        }#T_764e87f8_0a4b_11eb_86c5_171e598b9122row3_col4,#T_764e87f8_0a4b_11eb_86c5_171e598b9122row11_col12{\n",
       "            background-color:  #8badfd;\n",
       "            color:  #000000;\n",
       "        }#T_764e87f8_0a4b_11eb_86c5_171e598b9122row3_col5{\n",
       "            background-color:  #8caffe;\n",
       "            color:  #000000;\n",
       "        }#T_764e87f8_0a4b_11eb_86c5_171e598b9122row3_col6{\n",
       "            background-color:  #4b64d5;\n",
       "            color:  #f1f1f1;\n",
       "        }#T_764e87f8_0a4b_11eb_86c5_171e598b9122row3_col7,#T_764e87f8_0a4b_11eb_86c5_171e598b9122row5_col1,#T_764e87f8_0a4b_11eb_86c5_171e598b9122row9_col1,#T_764e87f8_0a4b_11eb_86c5_171e598b9122row12_col4{\n",
       "            background-color:  #88abfd;\n",
       "            color:  #000000;\n",
       "        }#T_764e87f8_0a4b_11eb_86c5_171e598b9122row3_col9{\n",
       "            background-color:  #dcdddd;\n",
       "            color:  #000000;\n",
       "        }#T_764e87f8_0a4b_11eb_86c5_171e598b9122row3_col10{\n",
       "            background-color:  #9abbff;\n",
       "            color:  #000000;\n",
       "        }#T_764e87f8_0a4b_11eb_86c5_171e598b9122row3_col12,#T_764e87f8_0a4b_11eb_86c5_171e598b9122row7_col6,#T_764e87f8_0a4b_11eb_86c5_171e598b9122row10_col0,#T_764e87f8_0a4b_11eb_86c5_171e598b9122row12_col2{\n",
       "            background-color:  #7396f5;\n",
       "            color:  #000000;\n",
       "        }#T_764e87f8_0a4b_11eb_86c5_171e598b9122row4_col0{\n",
       "            background-color:  #cad8ef;\n",
       "            color:  #000000;\n",
       "        }#T_764e87f8_0a4b_11eb_86c5_171e598b9122row4_col2,#T_764e87f8_0a4b_11eb_86c5_171e598b9122row8_col1{\n",
       "            background-color:  #93b5fe;\n",
       "            color:  #000000;\n",
       "        }#T_764e87f8_0a4b_11eb_86c5_171e598b9122row4_col8{\n",
       "            background-color:  #b7cff9;\n",
       "            color:  #000000;\n",
       "        }#T_764e87f8_0a4b_11eb_86c5_171e598b9122row4_col9{\n",
       "            background-color:  #b9d0f9;\n",
       "            color:  #000000;\n",
       "        }#T_764e87f8_0a4b_11eb_86c5_171e598b9122row4_col10,#T_764e87f8_0a4b_11eb_86c5_171e598b9122row10_col2{\n",
       "            background-color:  #b6cefa;\n",
       "            color:  #000000;\n",
       "        }#T_764e87f8_0a4b_11eb_86c5_171e598b9122row4_col11,#T_764e87f8_0a4b_11eb_86c5_171e598b9122row11_col3{\n",
       "            background-color:  #7a9df8;\n",
       "            color:  #000000;\n",
       "        }#T_764e87f8_0a4b_11eb_86c5_171e598b9122row4_col12{\n",
       "            background-color:  #86a9fc;\n",
       "            color:  #000000;\n",
       "        }#T_764e87f8_0a4b_11eb_86c5_171e598b9122row5_col0{\n",
       "            background-color:  #b5cdfa;\n",
       "            color:  #000000;\n",
       "        }#T_764e87f8_0a4b_11eb_86c5_171e598b9122row5_col2{\n",
       "            background-color:  #bbd1f8;\n",
       "            color:  #000000;\n",
       "        }#T_764e87f8_0a4b_11eb_86c5_171e598b9122row5_col4,#T_764e87f8_0a4b_11eb_86c5_171e598b9122row9_col5,#T_764e87f8_0a4b_11eb_86c5_171e598b9122row11_col7,#T_764e87f8_0a4b_11eb_86c5_171e598b9122row12_col3,#T_764e87f8_0a4b_11eb_86c5_171e598b9122row12_col6{\n",
       "            background-color:  #6687ed;\n",
       "            color:  #000000;\n",
       "        }#T_764e87f8_0a4b_11eb_86c5_171e598b9122row5_col6,#T_764e87f8_0a4b_11eb_86c5_171e598b9122row7_col8{\n",
       "            background-color:  #4257c9;\n",
       "            color:  #f1f1f1;\n",
       "        }#T_764e87f8_0a4b_11eb_86c5_171e598b9122row5_col8,#T_764e87f8_0a4b_11eb_86c5_171e598b9122row6_col2,#T_764e87f8_0a4b_11eb_86c5_171e598b9122row9_col11{\n",
       "            background-color:  #a7c5fe;\n",
       "            color:  #000000;\n",
       "        }#T_764e87f8_0a4b_11eb_86c5_171e598b9122row5_col11{\n",
       "            background-color:  #8db0fe;\n",
       "            color:  #000000;\n",
       "        }#T_764e87f8_0a4b_11eb_86c5_171e598b9122row5_col12{\n",
       "            background-color:  #5572df;\n",
       "            color:  #000000;\n",
       "        }#T_764e87f8_0a4b_11eb_86c5_171e598b9122row6_col0{\n",
       "            background-color:  #80a3fa;\n",
       "            color:  #000000;\n",
       "        }#T_764e87f8_0a4b_11eb_86c5_171e598b9122row6_col4,#T_764e87f8_0a4b_11eb_86c5_171e598b9122row7_col3,#T_764e87f8_0a4b_11eb_86c5_171e598b9122row9_col7,#T_764e87f8_0a4b_11eb_86c5_171e598b9122row11_col6{\n",
       "            background-color:  #455cce;\n",
       "            color:  #f1f1f1;\n",
       "        }#T_764e87f8_0a4b_11eb_86c5_171e598b9122row6_col7{\n",
       "            background-color:  #adc9fd;\n",
       "            color:  #000000;\n",
       "        }#T_764e87f8_0a4b_11eb_86c5_171e598b9122row6_col9{\n",
       "            background-color:  #a9c6fd;\n",
       "            color:  #000000;\n",
       "        }#T_764e87f8_0a4b_11eb_86c5_171e598b9122row6_col10{\n",
       "            background-color:  #ccd9ed;\n",
       "            color:  #000000;\n",
       "        }#T_764e87f8_0a4b_11eb_86c5_171e598b9122row6_col11{\n",
       "            background-color:  #5b7ae5;\n",
       "            color:  #000000;\n",
       "        }#T_764e87f8_0a4b_11eb_86c5_171e598b9122row6_col12,#T_764e87f8_0a4b_11eb_86c5_171e598b9122row8_col3,#T_764e87f8_0a4b_11eb_86c5_171e598b9122row11_col4{\n",
       "            background-color:  #7093f3;\n",
       "            color:  #000000;\n",
       "        }#T_764e87f8_0a4b_11eb_86c5_171e598b9122row7_col2{\n",
       "            background-color:  #dbdcde;\n",
       "            color:  #000000;\n",
       "        }#T_764e87f8_0a4b_11eb_86c5_171e598b9122row7_col5{\n",
       "            background-color:  #5875e1;\n",
       "            color:  #000000;\n",
       "        }#T_764e87f8_0a4b_11eb_86c5_171e598b9122row7_col9{\n",
       "            background-color:  #6485ec;\n",
       "            color:  #000000;\n",
       "        }#T_764e87f8_0a4b_11eb_86c5_171e598b9122row7_col10{\n",
       "            background-color:  #f5c2aa;\n",
       "            color:  #000000;\n",
       "        }#T_764e87f8_0a4b_11eb_86c5_171e598b9122row7_col12,#T_764e87f8_0a4b_11eb_86c5_171e598b9122row8_col6,#T_764e87f8_0a4b_11eb_86c5_171e598b9122row10_col12{\n",
       "            background-color:  #4e68d8;\n",
       "            color:  #000000;\n",
       "        }#T_764e87f8_0a4b_11eb_86c5_171e598b9122row8_col0{\n",
       "            background-color:  #bad0f8;\n",
       "            color:  #000000;\n",
       "        }#T_764e87f8_0a4b_11eb_86c5_171e598b9122row8_col4{\n",
       "            background-color:  #89acfd;\n",
       "            color:  #000000;\n",
       "        }#T_764e87f8_0a4b_11eb_86c5_171e598b9122row8_col5,#T_764e87f8_0a4b_11eb_86c5_171e598b9122row10_col8{\n",
       "            background-color:  #6282ea;\n",
       "            color:  #000000;\n",
       "        }#T_764e87f8_0a4b_11eb_86c5_171e598b9122row8_col7,#T_764e87f8_0a4b_11eb_86c5_171e598b9122row10_col5{\n",
       "            background-color:  #3e51c5;\n",
       "            color:  #f1f1f1;\n",
       "        }#T_764e87f8_0a4b_11eb_86c5_171e598b9122row8_col9{\n",
       "            background-color:  #ebd3c6;\n",
       "            color:  #000000;\n",
       "        }#T_764e87f8_0a4b_11eb_86c5_171e598b9122row8_col11,#T_764e87f8_0a4b_11eb_86c5_171e598b9122row12_col10{\n",
       "            background-color:  #9fbfff;\n",
       "            color:  #000000;\n",
       "        }#T_764e87f8_0a4b_11eb_86c5_171e598b9122row8_col12{\n",
       "            background-color:  #a6c4fe;\n",
       "            color:  #000000;\n",
       "        }#T_764e87f8_0a4b_11eb_86c5_171e598b9122row9_col0{\n",
       "            background-color:  #cfdaea;\n",
       "            color:  #000000;\n",
       "        }#T_764e87f8_0a4b_11eb_86c5_171e598b9122row9_col2{\n",
       "            background-color:  #82a6fb;\n",
       "            color:  #000000;\n",
       "        }#T_764e87f8_0a4b_11eb_86c5_171e598b9122row9_col8{\n",
       "            background-color:  #e0dbd8;\n",
       "            color:  #000000;\n",
       "        }#T_764e87f8_0a4b_11eb_86c5_171e598b9122row9_col12{\n",
       "            background-color:  #b1cbfc;\n",
       "            color:  #000000;\n",
       "        }#T_764e87f8_0a4b_11eb_86c5_171e598b9122row10_col4{\n",
       "            background-color:  #6e90f2;\n",
       "            color:  #000000;\n",
       "        }#T_764e87f8_0a4b_11eb_86c5_171e598b9122row10_col7{\n",
       "            background-color:  #f0cdbb;\n",
       "            color:  #000000;\n",
       "        }#T_764e87f8_0a4b_11eb_86c5_171e598b9122row10_col11{\n",
       "            background-color:  #6b8df0;\n",
       "            color:  #000000;\n",
       "        }#T_764e87f8_0a4b_11eb_86c5_171e598b9122row11_col0,#T_764e87f8_0a4b_11eb_86c5_171e598b9122row11_col9{\n",
       "            background-color:  #d7dce3;\n",
       "            color:  #000000;\n",
       "        }#T_764e87f8_0a4b_11eb_86c5_171e598b9122row11_col2{\n",
       "            background-color:  #81a4fb;\n",
       "            color:  #000000;\n",
       "        }#T_764e87f8_0a4b_11eb_86c5_171e598b9122row11_col5{\n",
       "            background-color:  #7295f4;\n",
       "            color:  #000000;\n",
       "        }#T_764e87f8_0a4b_11eb_86c5_171e598b9122row11_col8{\n",
       "            background-color:  #c3d5f4;\n",
       "            color:  #000000;\n",
       "        }#T_764e87f8_0a4b_11eb_86c5_171e598b9122row12_col5{\n",
       "            background-color:  #4358cb;\n",
       "            color:  #f1f1f1;\n",
       "        }#T_764e87f8_0a4b_11eb_86c5_171e598b9122row12_col8{\n",
       "            background-color:  #cdd9ec;\n",
       "            color:  #000000;\n",
       "        }#T_764e87f8_0a4b_11eb_86c5_171e598b9122row12_col9{\n",
       "            background-color:  #e1dad6;\n",
       "            color:  #000000;\n",
       "        }</style><table id=\"T_764e87f8_0a4b_11eb_86c5_171e598b9122\" ><thead>    <tr>        <th class=\"blank level0\" ></th>        <th class=\"col_heading level0 col0\" >age</th>        <th class=\"col_heading level0 col1\" >sex</th>        <th class=\"col_heading level0 col2\" >cp</th>        <th class=\"col_heading level0 col3\" >trestbps</th>        <th class=\"col_heading level0 col4\" >chol</th>        <th class=\"col_heading level0 col5\" >fbs</th>        <th class=\"col_heading level0 col6\" >restecg</th>        <th class=\"col_heading level0 col7\" >thalach</th>        <th class=\"col_heading level0 col8\" >exang</th>        <th class=\"col_heading level0 col9\" >oldpeak</th>        <th class=\"col_heading level0 col10\" >slope</th>        <th class=\"col_heading level0 col11\" >ca</th>        <th class=\"col_heading level0 col12\" >thal</th>    </tr></thead><tbody>\n",
       "                <tr>\n",
       "                        <th id=\"T_764e87f8_0a4b_11eb_86c5_171e598b9122level0_row0\" class=\"row_heading level0 row0\" >age</th>\n",
       "                        <td id=\"T_764e87f8_0a4b_11eb_86c5_171e598b9122row0_col0\" class=\"data row0 col0\" >1.000000</td>\n",
       "                        <td id=\"T_764e87f8_0a4b_11eb_86c5_171e598b9122row0_col1\" class=\"data row0 col1\" >-0.097568</td>\n",
       "                        <td id=\"T_764e87f8_0a4b_11eb_86c5_171e598b9122row0_col2\" class=\"data row0 col2\" >-0.047036</td>\n",
       "                        <td id=\"T_764e87f8_0a4b_11eb_86c5_171e598b9122row0_col3\" class=\"data row0 col3\" >0.269714</td>\n",
       "                        <td id=\"T_764e87f8_0a4b_11eb_86c5_171e598b9122row0_col4\" class=\"data row0 col4\" >0.193554</td>\n",
       "                        <td id=\"T_764e87f8_0a4b_11eb_86c5_171e598b9122row0_col5\" class=\"data row0 col5\" >0.100004</td>\n",
       "                        <td id=\"T_764e87f8_0a4b_11eb_86c5_171e598b9122row0_col6\" class=\"data row0 col6\" >-0.114881</td>\n",
       "                        <td id=\"T_764e87f8_0a4b_11eb_86c5_171e598b9122row0_col7\" class=\"data row0 col7\" >-0.416952</td>\n",
       "                        <td id=\"T_764e87f8_0a4b_11eb_86c5_171e598b9122row0_col8\" class=\"data row0 col8\" >0.123058</td>\n",
       "                        <td id=\"T_764e87f8_0a4b_11eb_86c5_171e598b9122row0_col9\" class=\"data row0 col9\" >0.221756</td>\n",
       "                        <td id=\"T_764e87f8_0a4b_11eb_86c5_171e598b9122row0_col10\" class=\"data row0 col10\" >-0.166574</td>\n",
       "                        <td id=\"T_764e87f8_0a4b_11eb_86c5_171e598b9122row0_col11\" class=\"data row0 col11\" >0.262633</td>\n",
       "                        <td id=\"T_764e87f8_0a4b_11eb_86c5_171e598b9122row0_col12\" class=\"data row0 col12\" >0.060891</td>\n",
       "            </tr>\n",
       "            <tr>\n",
       "                        <th id=\"T_764e87f8_0a4b_11eb_86c5_171e598b9122level0_row1\" class=\"row_heading level0 row1\" >sex</th>\n",
       "                        <td id=\"T_764e87f8_0a4b_11eb_86c5_171e598b9122row1_col0\" class=\"data row1 col0\" >-0.097568</td>\n",
       "                        <td id=\"T_764e87f8_0a4b_11eb_86c5_171e598b9122row1_col1\" class=\"data row1 col1\" >1.000000</td>\n",
       "                        <td id=\"T_764e87f8_0a4b_11eb_86c5_171e598b9122row1_col2\" class=\"data row1 col2\" >-0.013036</td>\n",
       "                        <td id=\"T_764e87f8_0a4b_11eb_86c5_171e598b9122row1_col3\" class=\"data row1 col3\" >-0.026716</td>\n",
       "                        <td id=\"T_764e87f8_0a4b_11eb_86c5_171e598b9122row1_col4\" class=\"data row1 col4\" >-0.181231</td>\n",
       "                        <td id=\"T_764e87f8_0a4b_11eb_86c5_171e598b9122row1_col5\" class=\"data row1 col5\" >0.100135</td>\n",
       "                        <td id=\"T_764e87f8_0a4b_11eb_86c5_171e598b9122row1_col6\" class=\"data row1 col6\" >-0.084655</td>\n",
       "                        <td id=\"T_764e87f8_0a4b_11eb_86c5_171e598b9122row1_col7\" class=\"data row1 col7\" >0.015444</td>\n",
       "                        <td id=\"T_764e87f8_0a4b_11eb_86c5_171e598b9122row1_col8\" class=\"data row1 col8\" >0.136478</td>\n",
       "                        <td id=\"T_764e87f8_0a4b_11eb_86c5_171e598b9122row1_col9\" class=\"data row1 col9\" >0.096863</td>\n",
       "                        <td id=\"T_764e87f8_0a4b_11eb_86c5_171e598b9122row1_col10\" class=\"data row1 col10\" >-0.028669</td>\n",
       "                        <td id=\"T_764e87f8_0a4b_11eb_86c5_171e598b9122row1_col11\" class=\"data row1 col11\" >0.137520</td>\n",
       "                        <td id=\"T_764e87f8_0a4b_11eb_86c5_171e598b9122row1_col12\" class=\"data row1 col12\" >0.220136</td>\n",
       "            </tr>\n",
       "            <tr>\n",
       "                        <th id=\"T_764e87f8_0a4b_11eb_86c5_171e598b9122level0_row2\" class=\"row_heading level0 row2\" >cp</th>\n",
       "                        <td id=\"T_764e87f8_0a4b_11eb_86c5_171e598b9122row2_col0\" class=\"data row2 col0\" >-0.047036</td>\n",
       "                        <td id=\"T_764e87f8_0a4b_11eb_86c5_171e598b9122row2_col1\" class=\"data row2 col1\" >-0.013036</td>\n",
       "                        <td id=\"T_764e87f8_0a4b_11eb_86c5_171e598b9122row2_col2\" class=\"data row2 col2\" >1.000000</td>\n",
       "                        <td id=\"T_764e87f8_0a4b_11eb_86c5_171e598b9122row2_col3\" class=\"data row2 col3\" >0.064463</td>\n",
       "                        <td id=\"T_764e87f8_0a4b_11eb_86c5_171e598b9122row2_col4\" class=\"data row2 col4\" >-0.049294</td>\n",
       "                        <td id=\"T_764e87f8_0a4b_11eb_86c5_171e598b9122row2_col5\" class=\"data row2 col5\" >0.118727</td>\n",
       "                        <td id=\"T_764e87f8_0a4b_11eb_86c5_171e598b9122row2_col6\" class=\"data row2 col6\" >0.033345</td>\n",
       "                        <td id=\"T_764e87f8_0a4b_11eb_86c5_171e598b9122row2_col7\" class=\"data row2 col7\" >0.272585</td>\n",
       "                        <td id=\"T_764e87f8_0a4b_11eb_86c5_171e598b9122row2_col8\" class=\"data row2 col8\" >-0.434243</td>\n",
       "                        <td id=\"T_764e87f8_0a4b_11eb_86c5_171e598b9122row2_col9\" class=\"data row2 col9\" >-0.120185</td>\n",
       "                        <td id=\"T_764e87f8_0a4b_11eb_86c5_171e598b9122row2_col10\" class=\"data row2 col10\" >0.093984</td>\n",
       "                        <td id=\"T_764e87f8_0a4b_11eb_86c5_171e598b9122row2_col11\" class=\"data row2 col11\" >-0.123558</td>\n",
       "                        <td id=\"T_764e87f8_0a4b_11eb_86c5_171e598b9122row2_col12\" class=\"data row2 col12\" >-0.176697</td>\n",
       "            </tr>\n",
       "            <tr>\n",
       "                        <th id=\"T_764e87f8_0a4b_11eb_86c5_171e598b9122level0_row3\" class=\"row_heading level0 row3\" >trestbps</th>\n",
       "                        <td id=\"T_764e87f8_0a4b_11eb_86c5_171e598b9122row3_col0\" class=\"data row3 col0\" >0.269714</td>\n",
       "                        <td id=\"T_764e87f8_0a4b_11eb_86c5_171e598b9122row3_col1\" class=\"data row3 col1\" >-0.026716</td>\n",
       "                        <td id=\"T_764e87f8_0a4b_11eb_86c5_171e598b9122row3_col2\" class=\"data row3 col2\" >0.064463</td>\n",
       "                        <td id=\"T_764e87f8_0a4b_11eb_86c5_171e598b9122row3_col3\" class=\"data row3 col3\" >1.000000</td>\n",
       "                        <td id=\"T_764e87f8_0a4b_11eb_86c5_171e598b9122row3_col4\" class=\"data row3 col4\" >0.107065</td>\n",
       "                        <td id=\"T_764e87f8_0a4b_11eb_86c5_171e598b9122row3_col5\" class=\"data row3 col5\" >0.169342</td>\n",
       "                        <td id=\"T_764e87f8_0a4b_11eb_86c5_171e598b9122row3_col6\" class=\"data row3 col6\" >-0.072283</td>\n",
       "                        <td id=\"T_764e87f8_0a4b_11eb_86c5_171e598b9122row3_col7\" class=\"data row3 col7\" >-0.079355</td>\n",
       "                        <td id=\"T_764e87f8_0a4b_11eb_86c5_171e598b9122row3_col8\" class=\"data row3 col8\" >0.067098</td>\n",
       "                        <td id=\"T_764e87f8_0a4b_11eb_86c5_171e598b9122row3_col9\" class=\"data row3 col9\" >0.206615</td>\n",
       "                        <td id=\"T_764e87f8_0a4b_11eb_86c5_171e598b9122row3_col10\" class=\"data row3 col10\" >-0.122464</td>\n",
       "                        <td id=\"T_764e87f8_0a4b_11eb_86c5_171e598b9122row3_col11\" class=\"data row3 col11\" >0.097582</td>\n",
       "                        <td id=\"T_764e87f8_0a4b_11eb_86c5_171e598b9122row3_col12\" class=\"data row3 col12\" >0.031946</td>\n",
       "            </tr>\n",
       "            <tr>\n",
       "                        <th id=\"T_764e87f8_0a4b_11eb_86c5_171e598b9122level0_row4\" class=\"row_heading level0 row4\" >chol</th>\n",
       "                        <td id=\"T_764e87f8_0a4b_11eb_86c5_171e598b9122row4_col0\" class=\"data row4 col0\" >0.193554</td>\n",
       "                        <td id=\"T_764e87f8_0a4b_11eb_86c5_171e598b9122row4_col1\" class=\"data row4 col1\" >-0.181231</td>\n",
       "                        <td id=\"T_764e87f8_0a4b_11eb_86c5_171e598b9122row4_col2\" class=\"data row4 col2\" >-0.049294</td>\n",
       "                        <td id=\"T_764e87f8_0a4b_11eb_86c5_171e598b9122row4_col3\" class=\"data row4 col3\" >0.107065</td>\n",
       "                        <td id=\"T_764e87f8_0a4b_11eb_86c5_171e598b9122row4_col4\" class=\"data row4 col4\" >1.000000</td>\n",
       "                        <td id=\"T_764e87f8_0a4b_11eb_86c5_171e598b9122row4_col5\" class=\"data row4 col5\" >-0.015226</td>\n",
       "                        <td id=\"T_764e87f8_0a4b_11eb_86c5_171e598b9122row4_col6\" class=\"data row4 col6\" >-0.135582</td>\n",
       "                        <td id=\"T_764e87f8_0a4b_11eb_86c5_171e598b9122row4_col7\" class=\"data row4 col7\" >-0.003785</td>\n",
       "                        <td id=\"T_764e87f8_0a4b_11eb_86c5_171e598b9122row4_col8\" class=\"data row4 col8\" >0.101345</td>\n",
       "                        <td id=\"T_764e87f8_0a4b_11eb_86c5_171e598b9122row4_col9\" class=\"data row4 col9\" >0.015427</td>\n",
       "                        <td id=\"T_764e87f8_0a4b_11eb_86c5_171e598b9122row4_col10\" class=\"data row4 col10\" >0.008472</td>\n",
       "                        <td id=\"T_764e87f8_0a4b_11eb_86c5_171e598b9122row4_col11\" class=\"data row4 col11\" >0.018424</td>\n",
       "                        <td id=\"T_764e87f8_0a4b_11eb_86c5_171e598b9122row4_col12\" class=\"data row4 col12\" >0.096053</td>\n",
       "            </tr>\n",
       "            <tr>\n",
       "                        <th id=\"T_764e87f8_0a4b_11eb_86c5_171e598b9122level0_row5\" class=\"row_heading level0 row5\" >fbs</th>\n",
       "                        <td id=\"T_764e87f8_0a4b_11eb_86c5_171e598b9122row5_col0\" class=\"data row5 col0\" >0.100004</td>\n",
       "                        <td id=\"T_764e87f8_0a4b_11eb_86c5_171e598b9122row5_col1\" class=\"data row5 col1\" >0.100135</td>\n",
       "                        <td id=\"T_764e87f8_0a4b_11eb_86c5_171e598b9122row5_col2\" class=\"data row5 col2\" >0.118727</td>\n",
       "                        <td id=\"T_764e87f8_0a4b_11eb_86c5_171e598b9122row5_col3\" class=\"data row5 col3\" >0.169342</td>\n",
       "                        <td id=\"T_764e87f8_0a4b_11eb_86c5_171e598b9122row5_col4\" class=\"data row5 col4\" >-0.015226</td>\n",
       "                        <td id=\"T_764e87f8_0a4b_11eb_86c5_171e598b9122row5_col5\" class=\"data row5 col5\" >1.000000</td>\n",
       "                        <td id=\"T_764e87f8_0a4b_11eb_86c5_171e598b9122row5_col6\" class=\"data row5 col6\" >-0.106056</td>\n",
       "                        <td id=\"T_764e87f8_0a4b_11eb_86c5_171e598b9122row5_col7\" class=\"data row5 col7\" >-0.000066</td>\n",
       "                        <td id=\"T_764e87f8_0a4b_11eb_86c5_171e598b9122row5_col8\" class=\"data row5 col8\" >0.033534</td>\n",
       "                        <td id=\"T_764e87f8_0a4b_11eb_86c5_171e598b9122row5_col9\" class=\"data row5 col9\" >0.049006</td>\n",
       "                        <td id=\"T_764e87f8_0a4b_11eb_86c5_171e598b9122row5_col10\" class=\"data row5 col10\" >-0.093053</td>\n",
       "                        <td id=\"T_764e87f8_0a4b_11eb_86c5_171e598b9122row5_col11\" class=\"data row5 col11\" >0.088327</td>\n",
       "                        <td id=\"T_764e87f8_0a4b_11eb_86c5_171e598b9122row5_col12\" class=\"data row5 col12\" >-0.072892</td>\n",
       "            </tr>\n",
       "            <tr>\n",
       "                        <th id=\"T_764e87f8_0a4b_11eb_86c5_171e598b9122level0_row6\" class=\"row_heading level0 row6\" >restecg</th>\n",
       "                        <td id=\"T_764e87f8_0a4b_11eb_86c5_171e598b9122row6_col0\" class=\"data row6 col0\" >-0.114881</td>\n",
       "                        <td id=\"T_764e87f8_0a4b_11eb_86c5_171e598b9122row6_col1\" class=\"data row6 col1\" >-0.084655</td>\n",
       "                        <td id=\"T_764e87f8_0a4b_11eb_86c5_171e598b9122row6_col2\" class=\"data row6 col2\" >0.033345</td>\n",
       "                        <td id=\"T_764e87f8_0a4b_11eb_86c5_171e598b9122row6_col3\" class=\"data row6 col3\" >-0.072283</td>\n",
       "                        <td id=\"T_764e87f8_0a4b_11eb_86c5_171e598b9122row6_col4\" class=\"data row6 col4\" >-0.135582</td>\n",
       "                        <td id=\"T_764e87f8_0a4b_11eb_86c5_171e598b9122row6_col5\" class=\"data row6 col5\" >-0.106056</td>\n",
       "                        <td id=\"T_764e87f8_0a4b_11eb_86c5_171e598b9122row6_col6\" class=\"data row6 col6\" >1.000000</td>\n",
       "                        <td id=\"T_764e87f8_0a4b_11eb_86c5_171e598b9122row6_col7\" class=\"data row6 col7\" >0.067636</td>\n",
       "                        <td id=\"T_764e87f8_0a4b_11eb_86c5_171e598b9122row6_col8\" class=\"data row6 col8\" >-0.061454</td>\n",
       "                        <td id=\"T_764e87f8_0a4b_11eb_86c5_171e598b9122row6_col9\" class=\"data row6 col9\" >-0.053963</td>\n",
       "                        <td id=\"T_764e87f8_0a4b_11eb_86c5_171e598b9122row6_col10\" class=\"data row6 col10\" >0.117369</td>\n",
       "                        <td id=\"T_764e87f8_0a4b_11eb_86c5_171e598b9122row6_col11\" class=\"data row6 col11\" >-0.091516</td>\n",
       "                        <td id=\"T_764e87f8_0a4b_11eb_86c5_171e598b9122row6_col12\" class=\"data row6 col12\" >0.021055</td>\n",
       "            </tr>\n",
       "            <tr>\n",
       "                        <th id=\"T_764e87f8_0a4b_11eb_86c5_171e598b9122level0_row7\" class=\"row_heading level0 row7\" >thalach</th>\n",
       "                        <td id=\"T_764e87f8_0a4b_11eb_86c5_171e598b9122row7_col0\" class=\"data row7 col0\" >-0.416952</td>\n",
       "                        <td id=\"T_764e87f8_0a4b_11eb_86c5_171e598b9122row7_col1\" class=\"data row7 col1\" >0.015444</td>\n",
       "                        <td id=\"T_764e87f8_0a4b_11eb_86c5_171e598b9122row7_col2\" class=\"data row7 col2\" >0.272585</td>\n",
       "                        <td id=\"T_764e87f8_0a4b_11eb_86c5_171e598b9122row7_col3\" class=\"data row7 col3\" >-0.079355</td>\n",
       "                        <td id=\"T_764e87f8_0a4b_11eb_86c5_171e598b9122row7_col4\" class=\"data row7 col4\" >-0.003785</td>\n",
       "                        <td id=\"T_764e87f8_0a4b_11eb_86c5_171e598b9122row7_col5\" class=\"data row7 col5\" >-0.000066</td>\n",
       "                        <td id=\"T_764e87f8_0a4b_11eb_86c5_171e598b9122row7_col6\" class=\"data row7 col6\" >0.067636</td>\n",
       "                        <td id=\"T_764e87f8_0a4b_11eb_86c5_171e598b9122row7_col7\" class=\"data row7 col7\" >1.000000</td>\n",
       "                        <td id=\"T_764e87f8_0a4b_11eb_86c5_171e598b9122row7_col8\" class=\"data row7 col8\" >-0.395844</td>\n",
       "                        <td id=\"T_764e87f8_0a4b_11eb_86c5_171e598b9122row7_col9\" class=\"data row7 col9\" >-0.364818</td>\n",
       "                        <td id=\"T_764e87f8_0a4b_11eb_86c5_171e598b9122row7_col10\" class=\"data row7 col10\" >0.415242</td>\n",
       "                        <td id=\"T_764e87f8_0a4b_11eb_86c5_171e598b9122row7_col11\" class=\"data row7 col11\" >-0.221814</td>\n",
       "                        <td id=\"T_764e87f8_0a4b_11eb_86c5_171e598b9122row7_col12\" class=\"data row7 col12\" >-0.101264</td>\n",
       "            </tr>\n",
       "            <tr>\n",
       "                        <th id=\"T_764e87f8_0a4b_11eb_86c5_171e598b9122level0_row8\" class=\"row_heading level0 row8\" >exang</th>\n",
       "                        <td id=\"T_764e87f8_0a4b_11eb_86c5_171e598b9122row8_col0\" class=\"data row8 col0\" >0.123058</td>\n",
       "                        <td id=\"T_764e87f8_0a4b_11eb_86c5_171e598b9122row8_col1\" class=\"data row8 col1\" >0.136478</td>\n",
       "                        <td id=\"T_764e87f8_0a4b_11eb_86c5_171e598b9122row8_col2\" class=\"data row8 col2\" >-0.434243</td>\n",
       "                        <td id=\"T_764e87f8_0a4b_11eb_86c5_171e598b9122row8_col3\" class=\"data row8 col3\" >0.067098</td>\n",
       "                        <td id=\"T_764e87f8_0a4b_11eb_86c5_171e598b9122row8_col4\" class=\"data row8 col4\" >0.101345</td>\n",
       "                        <td id=\"T_764e87f8_0a4b_11eb_86c5_171e598b9122row8_col5\" class=\"data row8 col5\" >0.033534</td>\n",
       "                        <td id=\"T_764e87f8_0a4b_11eb_86c5_171e598b9122row8_col6\" class=\"data row8 col6\" >-0.061454</td>\n",
       "                        <td id=\"T_764e87f8_0a4b_11eb_86c5_171e598b9122row8_col7\" class=\"data row8 col7\" >-0.395844</td>\n",
       "                        <td id=\"T_764e87f8_0a4b_11eb_86c5_171e598b9122row8_col8\" class=\"data row8 col8\" >1.000000</td>\n",
       "                        <td id=\"T_764e87f8_0a4b_11eb_86c5_171e598b9122row8_col9\" class=\"data row8 col9\" >0.305029</td>\n",
       "                        <td id=\"T_764e87f8_0a4b_11eb_86c5_171e598b9122row8_col10\" class=\"data row8 col10\" >-0.254278</td>\n",
       "                        <td id=\"T_764e87f8_0a4b_11eb_86c5_171e598b9122row8_col11\" class=\"data row8 col11\" >0.148762</td>\n",
       "                        <td id=\"T_764e87f8_0a4b_11eb_86c5_171e598b9122row8_col12\" class=\"data row8 col12\" >0.200907</td>\n",
       "            </tr>\n",
       "            <tr>\n",
       "                        <th id=\"T_764e87f8_0a4b_11eb_86c5_171e598b9122level0_row9\" class=\"row_heading level0 row9\" >oldpeak</th>\n",
       "                        <td id=\"T_764e87f8_0a4b_11eb_86c5_171e598b9122row9_col0\" class=\"data row9 col0\" >0.221756</td>\n",
       "                        <td id=\"T_764e87f8_0a4b_11eb_86c5_171e598b9122row9_col1\" class=\"data row9 col1\" >0.096863</td>\n",
       "                        <td id=\"T_764e87f8_0a4b_11eb_86c5_171e598b9122row9_col2\" class=\"data row9 col2\" >-0.120185</td>\n",
       "                        <td id=\"T_764e87f8_0a4b_11eb_86c5_171e598b9122row9_col3\" class=\"data row9 col3\" >0.206615</td>\n",
       "                        <td id=\"T_764e87f8_0a4b_11eb_86c5_171e598b9122row9_col4\" class=\"data row9 col4\" >0.015427</td>\n",
       "                        <td id=\"T_764e87f8_0a4b_11eb_86c5_171e598b9122row9_col5\" class=\"data row9 col5\" >0.049006</td>\n",
       "                        <td id=\"T_764e87f8_0a4b_11eb_86c5_171e598b9122row9_col6\" class=\"data row9 col6\" >-0.053963</td>\n",
       "                        <td id=\"T_764e87f8_0a4b_11eb_86c5_171e598b9122row9_col7\" class=\"data row9 col7\" >-0.364818</td>\n",
       "                        <td id=\"T_764e87f8_0a4b_11eb_86c5_171e598b9122row9_col8\" class=\"data row9 col8\" >0.305029</td>\n",
       "                        <td id=\"T_764e87f8_0a4b_11eb_86c5_171e598b9122row9_col9\" class=\"data row9 col9\" >1.000000</td>\n",
       "                        <td id=\"T_764e87f8_0a4b_11eb_86c5_171e598b9122row9_col10\" class=\"data row9 col10\" >-0.575930</td>\n",
       "                        <td id=\"T_764e87f8_0a4b_11eb_86c5_171e598b9122row9_col11\" class=\"data row9 col11\" >0.175787</td>\n",
       "                        <td id=\"T_764e87f8_0a4b_11eb_86c5_171e598b9122row9_col12\" class=\"data row9 col12\" >0.241014</td>\n",
       "            </tr>\n",
       "            <tr>\n",
       "                        <th id=\"T_764e87f8_0a4b_11eb_86c5_171e598b9122level0_row10\" class=\"row_heading level0 row10\" >slope</th>\n",
       "                        <td id=\"T_764e87f8_0a4b_11eb_86c5_171e598b9122row10_col0\" class=\"data row10 col0\" >-0.166574</td>\n",
       "                        <td id=\"T_764e87f8_0a4b_11eb_86c5_171e598b9122row10_col1\" class=\"data row10 col1\" >-0.028669</td>\n",
       "                        <td id=\"T_764e87f8_0a4b_11eb_86c5_171e598b9122row10_col2\" class=\"data row10 col2\" >0.093984</td>\n",
       "                        <td id=\"T_764e87f8_0a4b_11eb_86c5_171e598b9122row10_col3\" class=\"data row10 col3\" >-0.122464</td>\n",
       "                        <td id=\"T_764e87f8_0a4b_11eb_86c5_171e598b9122row10_col4\" class=\"data row10 col4\" >0.008472</td>\n",
       "                        <td id=\"T_764e87f8_0a4b_11eb_86c5_171e598b9122row10_col5\" class=\"data row10 col5\" >-0.093053</td>\n",
       "                        <td id=\"T_764e87f8_0a4b_11eb_86c5_171e598b9122row10_col6\" class=\"data row10 col6\" >0.117369</td>\n",
       "                        <td id=\"T_764e87f8_0a4b_11eb_86c5_171e598b9122row10_col7\" class=\"data row10 col7\" >0.415242</td>\n",
       "                        <td id=\"T_764e87f8_0a4b_11eb_86c5_171e598b9122row10_col8\" class=\"data row10 col8\" >-0.254278</td>\n",
       "                        <td id=\"T_764e87f8_0a4b_11eb_86c5_171e598b9122row10_col9\" class=\"data row10 col9\" >-0.575930</td>\n",
       "                        <td id=\"T_764e87f8_0a4b_11eb_86c5_171e598b9122row10_col10\" class=\"data row10 col10\" >1.000000</td>\n",
       "                        <td id=\"T_764e87f8_0a4b_11eb_86c5_171e598b9122row10_col11\" class=\"data row10 col11\" >-0.031109</td>\n",
       "                        <td id=\"T_764e87f8_0a4b_11eb_86c5_171e598b9122row10_col12\" class=\"data row10 col12\" >-0.099867</td>\n",
       "            </tr>\n",
       "            <tr>\n",
       "                        <th id=\"T_764e87f8_0a4b_11eb_86c5_171e598b9122level0_row11\" class=\"row_heading level0 row11\" >ca</th>\n",
       "                        <td id=\"T_764e87f8_0a4b_11eb_86c5_171e598b9122row11_col0\" class=\"data row11 col0\" >0.262633</td>\n",
       "                        <td id=\"T_764e87f8_0a4b_11eb_86c5_171e598b9122row11_col1\" class=\"data row11 col1\" >0.137520</td>\n",
       "                        <td id=\"T_764e87f8_0a4b_11eb_86c5_171e598b9122row11_col2\" class=\"data row11 col2\" >-0.123558</td>\n",
       "                        <td id=\"T_764e87f8_0a4b_11eb_86c5_171e598b9122row11_col3\" class=\"data row11 col3\" >0.097582</td>\n",
       "                        <td id=\"T_764e87f8_0a4b_11eb_86c5_171e598b9122row11_col4\" class=\"data row11 col4\" >0.018424</td>\n",
       "                        <td id=\"T_764e87f8_0a4b_11eb_86c5_171e598b9122row11_col5\" class=\"data row11 col5\" >0.088327</td>\n",
       "                        <td id=\"T_764e87f8_0a4b_11eb_86c5_171e598b9122row11_col6\" class=\"data row11 col6\" >-0.091516</td>\n",
       "                        <td id=\"T_764e87f8_0a4b_11eb_86c5_171e598b9122row11_col7\" class=\"data row11 col7\" >-0.221814</td>\n",
       "                        <td id=\"T_764e87f8_0a4b_11eb_86c5_171e598b9122row11_col8\" class=\"data row11 col8\" >0.148762</td>\n",
       "                        <td id=\"T_764e87f8_0a4b_11eb_86c5_171e598b9122row11_col9\" class=\"data row11 col9\" >0.175787</td>\n",
       "                        <td id=\"T_764e87f8_0a4b_11eb_86c5_171e598b9122row11_col10\" class=\"data row11 col10\" >-0.031109</td>\n",
       "                        <td id=\"T_764e87f8_0a4b_11eb_86c5_171e598b9122row11_col11\" class=\"data row11 col11\" >1.000000</td>\n",
       "                        <td id=\"T_764e87f8_0a4b_11eb_86c5_171e598b9122row11_col12\" class=\"data row11 col12\" >0.110100</td>\n",
       "            </tr>\n",
       "            <tr>\n",
       "                        <th id=\"T_764e87f8_0a4b_11eb_86c5_171e598b9122level0_row12\" class=\"row_heading level0 row12\" >thal</th>\n",
       "                        <td id=\"T_764e87f8_0a4b_11eb_86c5_171e598b9122row12_col0\" class=\"data row12 col0\" >0.060891</td>\n",
       "                        <td id=\"T_764e87f8_0a4b_11eb_86c5_171e598b9122row12_col1\" class=\"data row12 col1\" >0.220136</td>\n",
       "                        <td id=\"T_764e87f8_0a4b_11eb_86c5_171e598b9122row12_col2\" class=\"data row12 col2\" >-0.176697</td>\n",
       "                        <td id=\"T_764e87f8_0a4b_11eb_86c5_171e598b9122row12_col3\" class=\"data row12 col3\" >0.031946</td>\n",
       "                        <td id=\"T_764e87f8_0a4b_11eb_86c5_171e598b9122row12_col4\" class=\"data row12 col4\" >0.096053</td>\n",
       "                        <td id=\"T_764e87f8_0a4b_11eb_86c5_171e598b9122row12_col5\" class=\"data row12 col5\" >-0.072892</td>\n",
       "                        <td id=\"T_764e87f8_0a4b_11eb_86c5_171e598b9122row12_col6\" class=\"data row12 col6\" >0.021055</td>\n",
       "                        <td id=\"T_764e87f8_0a4b_11eb_86c5_171e598b9122row12_col7\" class=\"data row12 col7\" >-0.101264</td>\n",
       "                        <td id=\"T_764e87f8_0a4b_11eb_86c5_171e598b9122row12_col8\" class=\"data row12 col8\" >0.200907</td>\n",
       "                        <td id=\"T_764e87f8_0a4b_11eb_86c5_171e598b9122row12_col9\" class=\"data row12 col9\" >0.241014</td>\n",
       "                        <td id=\"T_764e87f8_0a4b_11eb_86c5_171e598b9122row12_col10\" class=\"data row12 col10\" >-0.099867</td>\n",
       "                        <td id=\"T_764e87f8_0a4b_11eb_86c5_171e598b9122row12_col11\" class=\"data row12 col11\" >0.110100</td>\n",
       "                        <td id=\"T_764e87f8_0a4b_11eb_86c5_171e598b9122row12_col12\" class=\"data row12 col12\" >1.000000</td>\n",
       "            </tr>\n",
       "    </tbody></table>"
      ],
      "text/plain": [
       "<pandas.io.formats.style.Styler at 0x7fc938ced210>"
      ]
     },
     "execution_count": 116,
     "metadata": {},
     "output_type": "execute_result"
    }
   ],
   "source": [
    "corr=x.corr()\n",
    "corr.style.background_gradient(cmap='coolwarm')"
   ]
  },
  {
   "cell_type": "code",
   "execution_count": 18,
   "metadata": {},
   "outputs": [],
   "source": [
    "import pandas as pd\n",
    "from sklearn.preprocessing import MinMaxScaler\n",
    "from sklearn.model_selection import train_test_split\n",
    "from sklearn.metrics import classification_report, confusion_matrix\n",
    "from sklearn.ensemble import GradientBoostingClassifier\n",
    "\n",
    "target=y\n",
    "seed = 42  \n",
    "#x=selected_feature  \n",
    "X_train, X_val, y_train, y_val= train_test_split(x,y,test_size=0.20, random_state=seed, stratify=target)\n"
   ]
  },
  {
   "cell_type": "code",
   "execution_count": 19,
   "metadata": {},
   "outputs": [],
   "source": [
    "scaler = MinMaxScaler()\n",
    "\n",
    "X_train = scaler.fit_transform(X_train)\n",
    "X_val = scaler.fit_transform(X_val)"
   ]
  },
  {
   "cell_type": "code",
   "execution_count": 488,
   "metadata": {},
   "outputs": [
    {
     "name": "stdout",
     "output_type": "stream",
     "text": [
      "Learning rate:  0.05\n",
      "Accuracy score (training): 0.912\n",
      "Accuracy score (validation): 0.923\n",
      "Learning rate:  0.075\n",
      "Accuracy score (training): 0.934\n",
      "Accuracy score (validation): 0.923\n",
      "Learning rate:  0.1\n",
      "Accuracy score (training): 0.965\n",
      "Accuracy score (validation): 0.923\n",
      "Learning rate:  0.25\n",
      "Accuracy score (training): 1.000\n",
      "Accuracy score (validation): 0.808\n",
      "Learning rate:  0.5\n",
      "Accuracy score (training): 1.000\n",
      "Accuracy score (validation): 0.808\n",
      "Learning rate:  0.75\n",
      "Accuracy score (training): 1.000\n",
      "Accuracy score (validation): 0.808\n",
      "Learning rate:  1\n",
      "Accuracy score (training): 1.000\n",
      "Accuracy score (validation): 0.731\n",
      "Learning rate:  0.01\n",
      "Accuracy score (training): 0.859\n",
      "Accuracy score (validation): 0.962\n"
     ]
    }
   ],
   "source": [
    "lr_list = [0.05, 0.075, 0.1, 0.25, 0.5, 0.75, 1, 0.01]\n",
    "\n",
    "for learning_rate in lr_list:\n",
    "    gb_clf = GradientBoostingClassifier(n_estimators=100, learning_rate=learning_rate, max_features=5, max_depth=2, random_state=0)\n",
    "    gb_clf.fit(X_train, y_train)\n",
    "\n",
    "    print(\"Learning rate: \", learning_rate)\n",
    "    print(\"Accuracy score (training): {0:.3f}\".format(gb_clf.score(X_train, y_train)))\n",
    "    print(\"Accuracy score (validation): {0:.3f}\".format(gb_clf.score(X_val, y_val)))"
   ]
  },
  {
   "cell_type": "code",
   "execution_count": 515,
   "metadata": {},
   "outputs": [
    {
     "data": {
      "text/plain": [
       "GradientBoostingClassifier(criterion='friedman_mse', init=None,\n",
       "                           learning_rate=0.05, loss='deviance', max_depth=2,\n",
       "                           max_features=None, max_leaf_nodes=None,\n",
       "                           min_impurity_decrease=0.0, min_impurity_split=None,\n",
       "                           min_samples_leaf=1, min_samples_split=2,\n",
       "                           min_weight_fraction_leaf=0.0, n_estimators=95,\n",
       "                           n_iter_no_change=None, presort='auto',\n",
       "                           random_state=42, subsample=1.0, tol=0.0001,\n",
       "                           validation_fraction=0.1, verbose=0,\n",
       "                           warm_start=False)"
      ]
     },
     "execution_count": 515,
     "metadata": {},
     "output_type": "execute_result"
    }
   ],
   "source": [
    "gb_clf = GradientBoostingClassifier(n_estimators=95, learning_rate=0.05, max_features=None, max_depth=2, random_state=42)\n",
    "gb_clf.fit(X_train, y_train)"
   ]
  },
  {
   "cell_type": "code",
   "execution_count": 516,
   "metadata": {},
   "outputs": [
    {
     "name": "stdout",
     "output_type": "stream",
     "text": [
      "Accuracy score (training): 0.925\n",
      "Accuracy score (validation): 0.923\n"
     ]
    }
   ],
   "source": [
    "print(\"Accuracy score (training): {0:.3f}\".format(gb_clf.score(X_train, y_train)))\n",
    "print(\"Accuracy score (validation): {0:.3f}\".format(gb_clf.score(X_val, y_val)))"
   ]
  },
  {
   "cell_type": "code",
   "execution_count": 266,
   "metadata": {},
   "outputs": [
    {
     "name": "stdout",
     "output_type": "stream",
     "text": [
      "[0.05696043 0.04925594 0.07651532 0.02678322 0.03313512 0.\n",
      " 0.00188695 0.11023389 0.16689558 0.07712902 0.0334028  0.18764314\n",
      " 0.18015859]\n"
     ]
    },
    {
     "data": {
      "image/png": "[encoded data removed]",
      "text/plain": [
       "<Figure size 1440x720 with 1 Axes>"
      ]
     },
     "metadata": {
      "needs_background": "light"
     },
     "output_type": "display_data"
    }
   ],
   "source": [
    "from matplotlib import pyplot\n",
    "\n",
    "# feature importance\n",
    "print(gb_clf.feature_importances_)\n",
    "# plot\n",
    "pyplot.bar(range(len(gb_clf.feature_importances_)),gb_clf.feature_importances_)\n",
    "pyplot.show()"
   ]
  },
  {
   "cell_type": "code",
   "execution_count": 112,
   "metadata": {},
   "outputs": [
    {
     "name": "stdout",
     "output_type": "stream",
     "text": [
      "[0.05696043 0.04925594 0.07651532 0.02678322 0.03313512 0.\n",
      " 0.00188695 0.11023389 0.16689558 0.07712902 0.0334028  0.18764314\n",
      " 0.18015859]\n"
     ]
    }
   ],
   "source": [
    "print(gb_clf.feature_importances_)"
   ]
  },
  {
   "cell_type": "code",
   "execution_count": 235,
   "metadata": {},
   "outputs": [
    {
     "data": {
      "text/plain": [
       "XGBClassifier(base_score=0.5, booster=None, colsample_bylevel=1,\n",
       "              colsample_bynode=1, colsample_bytree=1, gamma=0, gpu_id=-1,\n",
       "              importance_type='gain', interaction_constraints=None,\n",
       "              learning_rate=0.300000012, max_delta_step=0, max_depth=6,\n",
       "              min_child_weight=1, missing=nan, monotone_constraints=None,\n",
       "              n_estimators=100, n_jobs=0, num_parallel_tree=1,\n",
       "              objective='binary:logistic', random_state=0, reg_alpha=0,\n",
       "              reg_lambda=1, scale_pos_weight=1, subsample=1, tree_method=None,\n",
       "              validate_parameters=False, verbosity=None)"
      ]
     },
     "execution_count": 235,
     "metadata": {},
     "output_type": "execute_result"
    }
   ],
   "source": [
    "from xgboost import XGBClassifier\n",
    "model = XGBClassifier()\n",
    "model.fit(X_train, y_train)"
   ]
  },
  {
   "cell_type": "code",
   "execution_count": 236,
   "metadata": {},
   "outputs": [
    {
     "name": "stdout",
     "output_type": "stream",
     "text": [
      "Accuracy score (training): 1.000\n",
      "Accuracy score (validation): 0.885\n"
     ]
    }
   ],
   "source": [
    "print(\"Accuracy score (training): {0:.3f}\".format(model.score(X_train, y_train)))\n",
    "print(\"Accuracy score (validation): {0:.3f}\".format(model.score(X_val, y_val)))"
   ]
  },
  {
   "cell_type": "code",
   "execution_count": 517,
   "metadata": {},
   "outputs": [
    {
     "data": {
      "text/plain": [
       "GradientBoostingClassifier(criterion='friedman_mse', init=None,\n",
       "                           learning_rate=0.05, loss='deviance', max_depth=2,\n",
       "                           max_features=None, max_leaf_nodes=None,\n",
       "                           min_impurity_decrease=0.0, min_impurity_split=None,\n",
       "                           min_samples_leaf=1, min_samples_split=2,\n",
       "                           min_weight_fraction_leaf=0.0, n_estimators=95,\n",
       "                           n_iter_no_change=None, presort='auto',\n",
       "                           random_state=42, subsample=1.0, tol=0.0001,\n",
       "                           validation_fraction=0.1, verbose=0,\n",
       "                           warm_start=False)"
      ]
     },
     "execution_count": 517,
     "metadata": {},
     "output_type": "execute_result"
    }
   ],
   "source": [
    "#for kagol compitition\n",
    "X_train = scaler.fit_transform(x)\n",
    "\n",
    "gb_clf = GradientBoostingClassifier(n_estimators=95, learning_rate=0.05, max_features=None, max_depth=2, random_state=42)\n",
    "gb_clf.fit(X_train, y)"
   ]
  },
  {
   "cell_type": "code",
   "execution_count": 518,
   "metadata": {},
   "outputs": [
    {
     "name": "stdout",
     "output_type": "stream",
     "text": [
      "Accuracy score (training): 0.925\n"
     ]
    }
   ],
   "source": [
    "print(\"Accuracy score (training): {0:.3f}\".format(gb_clf.score(X_train, y)))"
   ]
  },
  {
   "cell_type": "code",
   "execution_count": 737,
   "metadata": {},
   "outputs": [],
   "source": [
    "df_test=df_test.drop(\"ID\",axis=1)\n",
    "\n",
    "test = scaler.fit_transform(df_test)\n",
    "results =gb_clf.predict(test)"
   ]
  },
  {
   "cell_type": "code",
   "execution_count": 520,
   "metadata": {},
   "outputs": [
    {
     "data": {
      "text/plain": [
       "array([1, 0, 0, 0, 0, 1, 1, 1, 0, 1, 1, 0, 1, 1, 0, 0, 1, 1, 0, 0, 0, 1,\n",
       "       1, 0, 1, 0, 0, 0, 0, 0, 1, 1, 0, 0, 1, 1, 0, 0, 0, 1, 0, 0, 1, 1,\n",
       "       1, 1, 0, 0, 0, 1])"
      ]
     },
     "execution_count": 520,
     "metadata": {},
     "output_type": "execute_result"
    }
   ],
   "source": [
    "results"
   ]
  },
  {
   "cell_type": "code",
   "execution_count": 522,
   "metadata": {},
   "outputs": [],
   "source": [
    "scr = [1, 0, 0, 0, 0, 1, 1, 1, 0, 1, 1, 0, 1, 1, 0, 0, 1, 1, 0, 0, 0, 1,\n",
    "       1, 0, 1, 0, 0, 0, 0, 0, 1, 1, 0, 0, 1, 1, 0, 0, 0, 1, 0, 0, 1, 1,\n",
    "       1, 1, 0, 0, 0, 1]\n",
    "   \n",
    "# dictionary of lists  \n",
    "dict = {'target': scr}  \n",
    "     \n",
    "final_result = pd.DataFrame(dict) \n",
    "  \n",
    "# saving the dataframe \n",
    "final_result.to_csv('prediction2.csv', header=True, index=False) "
   ]
  },
  {
   "cell_type": "code",
   "execution_count": 523,
   "metadata": {},
   "outputs": [
    {
     "data": {
      "text/plain": [
       "Counter({1: 137, 0: 116})"
      ]
     },
     "execution_count": 523,
     "metadata": {},
     "output_type": "execute_result"
    }
   ],
   "source": [
    "import collections, numpy\n",
    "collections.Counter(y)"
   ]
  },
  {
   "cell_type": "code",
   "execution_count": 545,
   "metadata": {},
   "outputs": [
    {
     "name": "stdout",
     "output_type": "stream",
     "text": [
      "\n",
      "Training Accuracy : 0.8814229249011858\n"
     ]
    }
   ],
   "source": [
    "from sklearn.ensemble import AdaBoostClassifier\n",
    "seed=3\n",
    "#train_x,test_x,train_y,test_y=train_test_split(data_X,data_Y,test_size=0.20, random_state=seed, stratify=target)\n",
    "from sklearn import preprocessing\n",
    "x=preprocessing.normalize(x)\n",
    "#test_x=preprocessing.normalize(x)\n",
    "\n",
    "\n",
    "clf = AdaBoostClassifier(n_estimators=50, random_state=0,learning_rate=0.1)\n",
    "clf.fit(x,y)\n",
    "#predictions_train=clf.predict(train_x)\n",
    "\n",
    "#predictions_test=clf.predict(test_x)\n",
    "\n",
    "print('\\nTraining Accuracy :', clf.score(x,y))\n"
   ]
  },
  {
   "cell_type": "code",
   "execution_count": 638,
   "metadata": {},
   "outputs": [
    {
     "name": "stdout",
     "output_type": "stream",
     "text": [
      "accuracy= 1.0\n",
      "Accuracy score (training): 1.000\n",
      "Accuracy score (validation): 0.962\n"
     ]
    }
   ],
   "source": [
    "import collections, numpy\n",
    "from sklearn.metrics import confusion_matrix\n",
    "\n",
    "\n",
    "\n",
    "from sklearn.model_selection import cross_val_score\n",
    "r=RandomForestClassifier(n_estimators=500, random_state=0)\n",
    "r.fit(x,y)\n",
    "print('accuracy=',r.score(x,y))\n",
    "\n",
    "r.fit(X_train, y_train)\n",
    "\n",
    "print(\"Accuracy score (training): {0:.3f}\".format(r.score(X_train, y_train)))\n",
    "print(\"Accuracy score (validation): {0:.3f}\".format(r.score(X_val, y_val)))\n",
    "\n"
   ]
  },
  {
   "cell_type": "code",
   "execution_count": 639,
   "metadata": {},
   "outputs": [
    {
     "data": {
      "text/plain": [
       "array([1, 0, 0, 0, 1, 1, 1, 1, 0, 1, 1, 0, 1, 1, 0, 0, 1, 1, 0, 0, 0, 1,\n",
       "       0, 0, 1, 0, 0, 0, 0, 0, 1, 1, 0, 0, 1, 1, 0, 0, 0, 1, 0, 0, 1, 1,\n",
       "       0, 1, 0, 0, 0, 1])"
      ]
     },
     "execution_count": 639,
     "metadata": {},
     "output_type": "execute_result"
    }
   ],
   "source": [
    "#df_test=df_test.drop(\"ID\",axis=1)\n",
    "df_test=df_test.drop(\"ID\",axis=1)\n",
    "test = scaler.fit_transform(df_test)\n",
    "results =r.predict(test)\n",
    "results\n"
   ]
  },
  {
   "cell_type": "code",
   "execution_count": 640,
   "metadata": {},
   "outputs": [],
   "source": [
    "scr = [1, 0, 0, 0, 1, 1, 1, 1, 0, 1, 1, 0, 1, 1, 0, 0, 1, 1, 0, 0, 0, 1,\n",
    "       0, 0, 1, 0, 0, 0, 0, 0, 1, 1, 0, 0, 1, 1, 0, 0, 0, 1, 0, 0, 1, 1,\n",
    "       0, 1, 0, 0, 0, 1]\n",
    "\n",
    "# scr = [1, 0, 0, 0, 1, 1, 1, 1, 0, 1, 1, 0, 1, 1, 0, 0, 1, 1, 0, 0, 0, 1,\n",
    "#        0, 1, 1, 0, 0, 0, 0, 0, 1, 1, 0, 0, 1, 1, 0, 0, 0, 1, 0, 0, 1, 1,\n",
    "#        0, 1, 0, 0, 0, 1]\n",
    "   \n",
    "# dictionary of lists  \n",
    "dict = {'target': scr}  \n",
    "     \n",
    "final_result = pd.DataFrame(dict) \n",
    "  \n",
    "# saving the dataframe \n",
    "final_result.to_csv('prediction2.csv', header=True, index=False) "
   ]
  },
  {
   "cell_type": "code",
   "execution_count": 641,
   "metadata": {},
   "outputs": [
    {
     "data": {
      "text/plain": [
       "False"
      ]
     },
     "execution_count": 641,
     "metadata": {},
     "output_type": "execute_result"
    }
   ],
   "source": [
    "np.array_equal(scr, results)"
   ]
  },
  {
   "cell_type": "code",
   "execution_count": null,
   "metadata": {},
   "outputs": [],
   "source": []
  },
  {
   "cell_type": "code",
   "execution_count": 673,
   "metadata": {},
   "outputs": [
    {
     "name": "stdout",
     "output_type": "stream",
     "text": [
      "Fitting 3 folds for each of 48 candidates, totalling 144 fits\n",
      "[CV] C=0.1, gamma=1, kernel=rbf ......................................\n"
     ]
    },
    {
     "name": "stderr",
     "output_type": "stream",
     "text": [
      "/home/walid/anaconda3/lib/python3.7/site-packages/sklearn/model_selection/_split.py:1978: FutureWarning: The default value of cv will change from 3 to 5 in version 0.22. Specify it explicitly to silence this warning.\n",
      "  warnings.warn(CV_WARNING, FutureWarning)\n",
      "[Parallel(n_jobs=1)]: Using backend SequentialBackend with 1 concurrent workers.\n",
      "/home/walid/anaconda3/lib/python3.7/site-packages/sklearn/model_selection/_validation.py:530: FutureWarning: From version 0.22, errors during fit will result in a cross validation score of NaN by default. Use error_score='raise' if you want an exception raised or error_score=np.nan to adopt the behavior from version 0.22.\n",
      "  FutureWarning)\n"
     ]
    },
    {
     "ename": "ValueError",
     "evalue": "Unknown label type: 'continuous'",
     "output_type": "error",
     "traceback": [
      "\u001b[0;31m---------------------------------------------------------------------------\u001b[0m",
      "\u001b[0;31mValueError\u001b[0m                                Traceback (most recent call last)",
      "\u001b[0;32m<ipython-input-673-430bd1ea0181>\u001b[0m in \u001b[0;36m<module>\u001b[0;34m\u001b[0m\n\u001b[1;32m      5\u001b[0m \u001b[0mgrid\u001b[0m \u001b[0;34m=\u001b[0m \u001b[0mGridSearchCV\u001b[0m\u001b[0;34m(\u001b[0m\u001b[0mSVC\u001b[0m\u001b[0;34m(\u001b[0m\u001b[0;34m)\u001b[0m\u001b[0;34m,\u001b[0m\u001b[0mparam_grid\u001b[0m\u001b[0;34m,\u001b[0m\u001b[0mrefit\u001b[0m\u001b[0;34m=\u001b[0m\u001b[0;32mTrue\u001b[0m\u001b[0;34m,\u001b[0m\u001b[0mverbose\u001b[0m\u001b[0;34m=\u001b[0m\u001b[0;36m2\u001b[0m\u001b[0;34m)\u001b[0m\u001b[0;34m\u001b[0m\u001b[0;34m\u001b[0m\u001b[0m\n\u001b[1;32m      6\u001b[0m \u001b[0;31m#grid.fit(train_x, train_y)\u001b[0m\u001b[0;34m\u001b[0m\u001b[0;34m\u001b[0m\u001b[0;34m\u001b[0m\u001b[0m\n\u001b[0;32m----> 7\u001b[0;31m \u001b[0mgrid\u001b[0m\u001b[0;34m.\u001b[0m\u001b[0mfit\u001b[0m\u001b[0;34m(\u001b[0m\u001b[0mtr_d\u001b[0m\u001b[0;34m,\u001b[0m \u001b[0mte_d\u001b[0m\u001b[0;34m)\u001b[0m\u001b[0;34m\u001b[0m\u001b[0;34m\u001b[0m\u001b[0m\n\u001b[0m\u001b[1;32m      8\u001b[0m \u001b[0mprint\u001b[0m\u001b[0;34m(\u001b[0m\u001b[0mgrid\u001b[0m\u001b[0;34m.\u001b[0m\u001b[0mbest_estimator_\u001b[0m\u001b[0;34m)\u001b[0m\u001b[0;34m\u001b[0m\u001b[0;34m\u001b[0m\u001b[0m\n",
      "\u001b[0;32m~/anaconda3/lib/python3.7/site-packages/sklearn/model_selection/_search.py\u001b[0m in \u001b[0;36mfit\u001b[0;34m(self, X, y, groups, **fit_params)\u001b[0m\n\u001b[1;32m    686\u001b[0m                 \u001b[0;32mreturn\u001b[0m \u001b[0mresults\u001b[0m\u001b[0;34m\u001b[0m\u001b[0;34m\u001b[0m\u001b[0m\n\u001b[1;32m    687\u001b[0m \u001b[0;34m\u001b[0m\u001b[0m\n\u001b[0;32m--> 688\u001b[0;31m             \u001b[0mself\u001b[0m\u001b[0;34m.\u001b[0m\u001b[0m_run_search\u001b[0m\u001b[0;34m(\u001b[0m\u001b[0mevaluate_candidates\u001b[0m\u001b[0;34m)\u001b[0m\u001b[0;34m\u001b[0m\u001b[0;34m\u001b[0m\u001b[0m\n\u001b[0m\u001b[1;32m    689\u001b[0m \u001b[0;34m\u001b[0m\u001b[0m\n\u001b[1;32m    690\u001b[0m         \u001b[0;31m# For multi-metric evaluation, store the best_index_, best_params_ and\u001b[0m\u001b[0;34m\u001b[0m\u001b[0;34m\u001b[0m\u001b[0;34m\u001b[0m\u001b[0m\n",
      "\u001b[0;32m~/anaconda3/lib/python3.7/site-packages/sklearn/model_selection/_search.py\u001b[0m in \u001b[0;36m_run_search\u001b[0;34m(self, evaluate_candidates)\u001b[0m\n\u001b[1;32m   1147\u001b[0m     \u001b[0;32mdef\u001b[0m \u001b[0m_run_search\u001b[0m\u001b[0;34m(\u001b[0m\u001b[0mself\u001b[0m\u001b[0;34m,\u001b[0m \u001b[0mevaluate_candidates\u001b[0m\u001b[0;34m)\u001b[0m\u001b[0;34m:\u001b[0m\u001b[0;34m\u001b[0m\u001b[0;34m\u001b[0m\u001b[0m\n\u001b[1;32m   1148\u001b[0m         \u001b[0;34m\"\"\"Search all candidates in param_grid\"\"\"\u001b[0m\u001b[0;34m\u001b[0m\u001b[0;34m\u001b[0m\u001b[0m\n\u001b[0;32m-> 1149\u001b[0;31m         \u001b[0mevaluate_candidates\u001b[0m\u001b[0;34m(\u001b[0m\u001b[0mParameterGrid\u001b[0m\u001b[0;34m(\u001b[0m\u001b[0mself\u001b[0m\u001b[0;34m.\u001b[0m\u001b[0mparam_grid\u001b[0m\u001b[0;34m)\u001b[0m\u001b[0;34m)\u001b[0m\u001b[0;34m\u001b[0m\u001b[0;34m\u001b[0m\u001b[0m\n\u001b[0m\u001b[1;32m   1150\u001b[0m \u001b[0;34m\u001b[0m\u001b[0m\n\u001b[1;32m   1151\u001b[0m \u001b[0;34m\u001b[0m\u001b[0m\n",
      "\u001b[0;32m~/anaconda3/lib/python3.7/site-packages/sklearn/model_selection/_search.py\u001b[0m in \u001b[0;36mevaluate_candidates\u001b[0;34m(candidate_params)\u001b[0m\n\u001b[1;32m    665\u001b[0m                                \u001b[0;32mfor\u001b[0m \u001b[0mparameters\u001b[0m\u001b[0;34m,\u001b[0m \u001b[0;34m(\u001b[0m\u001b[0mtrain\u001b[0m\u001b[0;34m,\u001b[0m \u001b[0mtest\u001b[0m\u001b[0;34m)\u001b[0m\u001b[0;34m\u001b[0m\u001b[0;34m\u001b[0m\u001b[0m\n\u001b[1;32m    666\u001b[0m                                in product(candidate_params,\n\u001b[0;32m--> 667\u001b[0;31m                                           cv.split(X, y, groups)))\n\u001b[0m\u001b[1;32m    668\u001b[0m \u001b[0;34m\u001b[0m\u001b[0m\n\u001b[1;32m    669\u001b[0m                 \u001b[0;32mif\u001b[0m \u001b[0mlen\u001b[0m\u001b[0;34m(\u001b[0m\u001b[0mout\u001b[0m\u001b[0;34m)\u001b[0m \u001b[0;34m<\u001b[0m \u001b[0;36m1\u001b[0m\u001b[0;34m:\u001b[0m\u001b[0;34m\u001b[0m\u001b[0;34m\u001b[0m\u001b[0m\n",
      "\u001b[0;32m~/anaconda3/lib/python3.7/site-packages/joblib/parallel.py\u001b[0m in \u001b[0;36m__call__\u001b[0;34m(self, iterable)\u001b[0m\n\u001b[1;32m    919\u001b[0m             \u001b[0;31m# remaining jobs.\u001b[0m\u001b[0;34m\u001b[0m\u001b[0;34m\u001b[0m\u001b[0;34m\u001b[0m\u001b[0m\n\u001b[1;32m    920\u001b[0m             \u001b[0mself\u001b[0m\u001b[0;34m.\u001b[0m\u001b[0m_iterating\u001b[0m \u001b[0;34m=\u001b[0m \u001b[0;32mFalse\u001b[0m\u001b[0;34m\u001b[0m\u001b[0;34m\u001b[0m\u001b[0m\n\u001b[0;32m--> 921\u001b[0;31m             \u001b[0;32mif\u001b[0m \u001b[0mself\u001b[0m\u001b[0;34m.\u001b[0m\u001b[0mdispatch_one_batch\u001b[0m\u001b[0;34m(\u001b[0m\u001b[0miterator\u001b[0m\u001b[0;34m)\u001b[0m\u001b[0;34m:\u001b[0m\u001b[0;34m\u001b[0m\u001b[0;34m\u001b[0m\u001b[0m\n\u001b[0m\u001b[1;32m    922\u001b[0m                 \u001b[0mself\u001b[0m\u001b[0;34m.\u001b[0m\u001b[0m_iterating\u001b[0m \u001b[0;34m=\u001b[0m \u001b[0mself\u001b[0m\u001b[0;34m.\u001b[0m\u001b[0m_original_iterator\u001b[0m \u001b[0;32mis\u001b[0m \u001b[0;32mnot\u001b[0m \u001b[0;32mNone\u001b[0m\u001b[0;34m\u001b[0m\u001b[0;34m\u001b[0m\u001b[0m\n\u001b[1;32m    923\u001b[0m \u001b[0;34m\u001b[0m\u001b[0m\n",
      "\u001b[0;32m~/anaconda3/lib/python3.7/site-packages/joblib/parallel.py\u001b[0m in \u001b[0;36mdispatch_one_batch\u001b[0;34m(self, iterator)\u001b[0m\n\u001b[1;32m    757\u001b[0m                 \u001b[0;32mreturn\u001b[0m \u001b[0;32mFalse\u001b[0m\u001b[0;34m\u001b[0m\u001b[0;34m\u001b[0m\u001b[0m\n\u001b[1;32m    758\u001b[0m             \u001b[0;32melse\u001b[0m\u001b[0;34m:\u001b[0m\u001b[0;34m\u001b[0m\u001b[0;34m\u001b[0m\u001b[0m\n\u001b[0;32m--> 759\u001b[0;31m                 \u001b[0mself\u001b[0m\u001b[0;34m.\u001b[0m\u001b[0m_dispatch\u001b[0m\u001b[0;34m(\u001b[0m\u001b[0mtasks\u001b[0m\u001b[0;34m)\u001b[0m\u001b[0;34m\u001b[0m\u001b[0;34m\u001b[0m\u001b[0m\n\u001b[0m\u001b[1;32m    760\u001b[0m                 \u001b[0;32mreturn\u001b[0m \u001b[0;32mTrue\u001b[0m\u001b[0;34m\u001b[0m\u001b[0;34m\u001b[0m\u001b[0m\n\u001b[1;32m    761\u001b[0m \u001b[0;34m\u001b[0m\u001b[0m\n",
      "\u001b[0;32m~/anaconda3/lib/python3.7/site-packages/joblib/parallel.py\u001b[0m in \u001b[0;36m_dispatch\u001b[0;34m(self, batch)\u001b[0m\n\u001b[1;32m    714\u001b[0m         \u001b[0;32mwith\u001b[0m \u001b[0mself\u001b[0m\u001b[0;34m.\u001b[0m\u001b[0m_lock\u001b[0m\u001b[0;34m:\u001b[0m\u001b[0;34m\u001b[0m\u001b[0;34m\u001b[0m\u001b[0m\n\u001b[1;32m    715\u001b[0m             \u001b[0mjob_idx\u001b[0m \u001b[0;34m=\u001b[0m \u001b[0mlen\u001b[0m\u001b[0;34m(\u001b[0m\u001b[0mself\u001b[0m\u001b[0;34m.\u001b[0m\u001b[0m_jobs\u001b[0m\u001b[0;34m)\u001b[0m\u001b[0;34m\u001b[0m\u001b[0;34m\u001b[0m\u001b[0m\n\u001b[0;32m--> 716\u001b[0;31m             \u001b[0mjob\u001b[0m \u001b[0;34m=\u001b[0m \u001b[0mself\u001b[0m\u001b[0;34m.\u001b[0m\u001b[0m_backend\u001b[0m\u001b[0;34m.\u001b[0m\u001b[0mapply_async\u001b[0m\u001b[0;34m(\u001b[0m\u001b[0mbatch\u001b[0m\u001b[0;34m,\u001b[0m \u001b[0mcallback\u001b[0m\u001b[0;34m=\u001b[0m\u001b[0mcb\u001b[0m\u001b[0;34m)\u001b[0m\u001b[0;34m\u001b[0m\u001b[0;34m\u001b[0m\u001b[0m\n\u001b[0m\u001b[1;32m    717\u001b[0m             \u001b[0;31m# A job can complete so quickly than its callback is\u001b[0m\u001b[0;34m\u001b[0m\u001b[0;34m\u001b[0m\u001b[0;34m\u001b[0m\u001b[0m\n\u001b[1;32m    718\u001b[0m             \u001b[0;31m# called before we get here, causing self._jobs to\u001b[0m\u001b[0;34m\u001b[0m\u001b[0;34m\u001b[0m\u001b[0;34m\u001b[0m\u001b[0m\n",
      "\u001b[0;32m~/anaconda3/lib/python3.7/site-packages/joblib/_parallel_backends.py\u001b[0m in \u001b[0;36mapply_async\u001b[0;34m(self, func, callback)\u001b[0m\n\u001b[1;32m    180\u001b[0m     \u001b[0;32mdef\u001b[0m \u001b[0mapply_async\u001b[0m\u001b[0;34m(\u001b[0m\u001b[0mself\u001b[0m\u001b[0;34m,\u001b[0m \u001b[0mfunc\u001b[0m\u001b[0;34m,\u001b[0m \u001b[0mcallback\u001b[0m\u001b[0;34m=\u001b[0m\u001b[0;32mNone\u001b[0m\u001b[0;34m)\u001b[0m\u001b[0;34m:\u001b[0m\u001b[0;34m\u001b[0m\u001b[0;34m\u001b[0m\u001b[0m\n\u001b[1;32m    181\u001b[0m         \u001b[0;34m\"\"\"Schedule a func to be run\"\"\"\u001b[0m\u001b[0;34m\u001b[0m\u001b[0;34m\u001b[0m\u001b[0m\n\u001b[0;32m--> 182\u001b[0;31m         \u001b[0mresult\u001b[0m \u001b[0;34m=\u001b[0m \u001b[0mImmediateResult\u001b[0m\u001b[0;34m(\u001b[0m\u001b[0mfunc\u001b[0m\u001b[0;34m)\u001b[0m\u001b[0;34m\u001b[0m\u001b[0;34m\u001b[0m\u001b[0m\n\u001b[0m\u001b[1;32m    183\u001b[0m         \u001b[0;32mif\u001b[0m \u001b[0mcallback\u001b[0m\u001b[0;34m:\u001b[0m\u001b[0;34m\u001b[0m\u001b[0;34m\u001b[0m\u001b[0m\n\u001b[1;32m    184\u001b[0m             \u001b[0mcallback\u001b[0m\u001b[0;34m(\u001b[0m\u001b[0mresult\u001b[0m\u001b[0;34m)\u001b[0m\u001b[0;34m\u001b[0m\u001b[0;34m\u001b[0m\u001b[0m\n",
      "\u001b[0;32m~/anaconda3/lib/python3.7/site-packages/joblib/_parallel_backends.py\u001b[0m in \u001b[0;36m__init__\u001b[0;34m(self, batch)\u001b[0m\n\u001b[1;32m    547\u001b[0m         \u001b[0;31m# Don't delay the application, to avoid keeping the input\u001b[0m\u001b[0;34m\u001b[0m\u001b[0;34m\u001b[0m\u001b[0;34m\u001b[0m\u001b[0m\n\u001b[1;32m    548\u001b[0m         \u001b[0;31m# arguments in memory\u001b[0m\u001b[0;34m\u001b[0m\u001b[0;34m\u001b[0m\u001b[0;34m\u001b[0m\u001b[0m\n\u001b[0;32m--> 549\u001b[0;31m         \u001b[0mself\u001b[0m\u001b[0;34m.\u001b[0m\u001b[0mresults\u001b[0m \u001b[0;34m=\u001b[0m \u001b[0mbatch\u001b[0m\u001b[0;34m(\u001b[0m\u001b[0;34m)\u001b[0m\u001b[0;34m\u001b[0m\u001b[0;34m\u001b[0m\u001b[0m\n\u001b[0m\u001b[1;32m    550\u001b[0m \u001b[0;34m\u001b[0m\u001b[0m\n\u001b[1;32m    551\u001b[0m     \u001b[0;32mdef\u001b[0m \u001b[0mget\u001b[0m\u001b[0;34m(\u001b[0m\u001b[0mself\u001b[0m\u001b[0;34m)\u001b[0m\u001b[0;34m:\u001b[0m\u001b[0;34m\u001b[0m\u001b[0;34m\u001b[0m\u001b[0m\n",
      "\u001b[0;32m~/anaconda3/lib/python3.7/site-packages/joblib/parallel.py\u001b[0m in \u001b[0;36m__call__\u001b[0;34m(self)\u001b[0m\n\u001b[1;32m    223\u001b[0m         \u001b[0;32mwith\u001b[0m \u001b[0mparallel_backend\u001b[0m\u001b[0;34m(\u001b[0m\u001b[0mself\u001b[0m\u001b[0;34m.\u001b[0m\u001b[0m_backend\u001b[0m\u001b[0;34m,\u001b[0m \u001b[0mn_jobs\u001b[0m\u001b[0;34m=\u001b[0m\u001b[0mself\u001b[0m\u001b[0;34m.\u001b[0m\u001b[0m_n_jobs\u001b[0m\u001b[0;34m)\u001b[0m\u001b[0;34m:\u001b[0m\u001b[0;34m\u001b[0m\u001b[0;34m\u001b[0m\u001b[0m\n\u001b[1;32m    224\u001b[0m             return [func(*args, **kwargs)\n\u001b[0;32m--> 225\u001b[0;31m                     for func, args, kwargs in self.items]\n\u001b[0m\u001b[1;32m    226\u001b[0m \u001b[0;34m\u001b[0m\u001b[0m\n\u001b[1;32m    227\u001b[0m     \u001b[0;32mdef\u001b[0m \u001b[0m__len__\u001b[0m\u001b[0;34m(\u001b[0m\u001b[0mself\u001b[0m\u001b[0;34m)\u001b[0m\u001b[0;34m:\u001b[0m\u001b[0;34m\u001b[0m\u001b[0;34m\u001b[0m\u001b[0m\n",
      "\u001b[0;32m~/anaconda3/lib/python3.7/site-packages/joblib/parallel.py\u001b[0m in \u001b[0;36m<listcomp>\u001b[0;34m(.0)\u001b[0m\n\u001b[1;32m    223\u001b[0m         \u001b[0;32mwith\u001b[0m \u001b[0mparallel_backend\u001b[0m\u001b[0;34m(\u001b[0m\u001b[0mself\u001b[0m\u001b[0;34m.\u001b[0m\u001b[0m_backend\u001b[0m\u001b[0;34m,\u001b[0m \u001b[0mn_jobs\u001b[0m\u001b[0;34m=\u001b[0m\u001b[0mself\u001b[0m\u001b[0;34m.\u001b[0m\u001b[0m_n_jobs\u001b[0m\u001b[0;34m)\u001b[0m\u001b[0;34m:\u001b[0m\u001b[0;34m\u001b[0m\u001b[0;34m\u001b[0m\u001b[0m\n\u001b[1;32m    224\u001b[0m             return [func(*args, **kwargs)\n\u001b[0;32m--> 225\u001b[0;31m                     for func, args, kwargs in self.items]\n\u001b[0m\u001b[1;32m    226\u001b[0m \u001b[0;34m\u001b[0m\u001b[0m\n\u001b[1;32m    227\u001b[0m     \u001b[0;32mdef\u001b[0m \u001b[0m__len__\u001b[0m\u001b[0;34m(\u001b[0m\u001b[0mself\u001b[0m\u001b[0;34m)\u001b[0m\u001b[0;34m:\u001b[0m\u001b[0;34m\u001b[0m\u001b[0;34m\u001b[0m\u001b[0m\n",
      "\u001b[0;32m~/anaconda3/lib/python3.7/site-packages/sklearn/model_selection/_validation.py\u001b[0m in \u001b[0;36m_fit_and_score\u001b[0;34m(estimator, X, y, scorer, train, test, verbose, parameters, fit_params, return_train_score, return_parameters, return_n_test_samples, return_times, return_estimator, error_score)\u001b[0m\n\u001b[1;32m    514\u001b[0m             \u001b[0mestimator\u001b[0m\u001b[0;34m.\u001b[0m\u001b[0mfit\u001b[0m\u001b[0;34m(\u001b[0m\u001b[0mX_train\u001b[0m\u001b[0;34m,\u001b[0m \u001b[0;34m**\u001b[0m\u001b[0mfit_params\u001b[0m\u001b[0;34m)\u001b[0m\u001b[0;34m\u001b[0m\u001b[0;34m\u001b[0m\u001b[0m\n\u001b[1;32m    515\u001b[0m         \u001b[0;32melse\u001b[0m\u001b[0;34m:\u001b[0m\u001b[0;34m\u001b[0m\u001b[0;34m\u001b[0m\u001b[0m\n\u001b[0;32m--> 516\u001b[0;31m             \u001b[0mestimator\u001b[0m\u001b[0;34m.\u001b[0m\u001b[0mfit\u001b[0m\u001b[0;34m(\u001b[0m\u001b[0mX_train\u001b[0m\u001b[0;34m,\u001b[0m \u001b[0my_train\u001b[0m\u001b[0;34m,\u001b[0m \u001b[0;34m**\u001b[0m\u001b[0mfit_params\u001b[0m\u001b[0;34m)\u001b[0m\u001b[0;34m\u001b[0m\u001b[0;34m\u001b[0m\u001b[0m\n\u001b[0m\u001b[1;32m    517\u001b[0m \u001b[0;34m\u001b[0m\u001b[0m\n\u001b[1;32m    518\u001b[0m     \u001b[0;32mexcept\u001b[0m \u001b[0mException\u001b[0m \u001b[0;32mas\u001b[0m \u001b[0me\u001b[0m\u001b[0;34m:\u001b[0m\u001b[0;34m\u001b[0m\u001b[0;34m\u001b[0m\u001b[0m\n",
      "\u001b[0;32m~/anaconda3/lib/python3.7/site-packages/sklearn/svm/base.py\u001b[0m in \u001b[0;36mfit\u001b[0;34m(self, X, y, sample_weight)\u001b[0m\n\u001b[1;32m    145\u001b[0m                          \u001b[0morder\u001b[0m\u001b[0;34m=\u001b[0m\u001b[0;34m'C'\u001b[0m\u001b[0;34m,\u001b[0m \u001b[0maccept_sparse\u001b[0m\u001b[0;34m=\u001b[0m\u001b[0;34m'csr'\u001b[0m\u001b[0;34m,\u001b[0m\u001b[0;34m\u001b[0m\u001b[0;34m\u001b[0m\u001b[0m\n\u001b[1;32m    146\u001b[0m                          accept_large_sparse=False)\n\u001b[0;32m--> 147\u001b[0;31m         \u001b[0my\u001b[0m \u001b[0;34m=\u001b[0m \u001b[0mself\u001b[0m\u001b[0;34m.\u001b[0m\u001b[0m_validate_targets\u001b[0m\u001b[0;34m(\u001b[0m\u001b[0my\u001b[0m\u001b[0;34m)\u001b[0m\u001b[0;34m\u001b[0m\u001b[0;34m\u001b[0m\u001b[0m\n\u001b[0m\u001b[1;32m    148\u001b[0m \u001b[0;34m\u001b[0m\u001b[0m\n\u001b[1;32m    149\u001b[0m         sample_weight = np.asarray([]\n",
      "\u001b[0;32m~/anaconda3/lib/python3.7/site-packages/sklearn/svm/base.py\u001b[0m in \u001b[0;36m_validate_targets\u001b[0;34m(self, y)\u001b[0m\n\u001b[1;32m    513\u001b[0m     \u001b[0;32mdef\u001b[0m \u001b[0m_validate_targets\u001b[0m\u001b[0;34m(\u001b[0m\u001b[0mself\u001b[0m\u001b[0;34m,\u001b[0m \u001b[0my\u001b[0m\u001b[0;34m)\u001b[0m\u001b[0;34m:\u001b[0m\u001b[0;34m\u001b[0m\u001b[0;34m\u001b[0m\u001b[0m\n\u001b[1;32m    514\u001b[0m         \u001b[0my_\u001b[0m \u001b[0;34m=\u001b[0m \u001b[0mcolumn_or_1d\u001b[0m\u001b[0;34m(\u001b[0m\u001b[0my\u001b[0m\u001b[0;34m,\u001b[0m \u001b[0mwarn\u001b[0m\u001b[0;34m=\u001b[0m\u001b[0;32mTrue\u001b[0m\u001b[0;34m)\u001b[0m\u001b[0;34m\u001b[0m\u001b[0;34m\u001b[0m\u001b[0m\n\u001b[0;32m--> 515\u001b[0;31m         \u001b[0mcheck_classification_targets\u001b[0m\u001b[0;34m(\u001b[0m\u001b[0my\u001b[0m\u001b[0;34m)\u001b[0m\u001b[0;34m\u001b[0m\u001b[0;34m\u001b[0m\u001b[0m\n\u001b[0m\u001b[1;32m    516\u001b[0m         \u001b[0mcls\u001b[0m\u001b[0;34m,\u001b[0m \u001b[0my\u001b[0m \u001b[0;34m=\u001b[0m \u001b[0mnp\u001b[0m\u001b[0;34m.\u001b[0m\u001b[0munique\u001b[0m\u001b[0;34m(\u001b[0m\u001b[0my_\u001b[0m\u001b[0;34m,\u001b[0m \u001b[0mreturn_inverse\u001b[0m\u001b[0;34m=\u001b[0m\u001b[0;32mTrue\u001b[0m\u001b[0;34m)\u001b[0m\u001b[0;34m\u001b[0m\u001b[0;34m\u001b[0m\u001b[0m\n\u001b[1;32m    517\u001b[0m         \u001b[0mself\u001b[0m\u001b[0;34m.\u001b[0m\u001b[0mclass_weight_\u001b[0m \u001b[0;34m=\u001b[0m \u001b[0mcompute_class_weight\u001b[0m\u001b[0;34m(\u001b[0m\u001b[0mself\u001b[0m\u001b[0;34m.\u001b[0m\u001b[0mclass_weight\u001b[0m\u001b[0;34m,\u001b[0m \u001b[0mcls\u001b[0m\u001b[0;34m,\u001b[0m \u001b[0my_\u001b[0m\u001b[0;34m)\u001b[0m\u001b[0;34m\u001b[0m\u001b[0;34m\u001b[0m\u001b[0m\n",
      "\u001b[0;32m~/anaconda3/lib/python3.7/site-packages/sklearn/utils/multiclass.py\u001b[0m in \u001b[0;36mcheck_classification_targets\u001b[0;34m(y)\u001b[0m\n\u001b[1;32m    167\u001b[0m     if y_type not in ['binary', 'multiclass', 'multiclass-multioutput',\n\u001b[1;32m    168\u001b[0m                       'multilabel-indicator', 'multilabel-sequences']:\n\u001b[0;32m--> 169\u001b[0;31m         \u001b[0;32mraise\u001b[0m \u001b[0mValueError\u001b[0m\u001b[0;34m(\u001b[0m\u001b[0;34m\"Unknown label type: %r\"\u001b[0m \u001b[0;34m%\u001b[0m \u001b[0my_type\u001b[0m\u001b[0;34m)\u001b[0m\u001b[0;34m\u001b[0m\u001b[0;34m\u001b[0m\u001b[0m\n\u001b[0m\u001b[1;32m    170\u001b[0m \u001b[0;34m\u001b[0m\u001b[0m\n\u001b[1;32m    171\u001b[0m \u001b[0;34m\u001b[0m\u001b[0m\n",
      "\u001b[0;31mValueError\u001b[0m: Unknown label type: 'continuous'"
     ]
    }
   ],
   "source": [
    "from sklearn.svm import SVC\n",
    "xx = scaler.fit_transform(x)\n",
    "from sklearn.model_selection import GridSearchCV\n",
    "param_grid = {'C': [0.1,1, 10, 100], 'gamma': [1,0.1,0.01,0.001],'kernel': ['rbf', 'poly', 'sigmoid']}\n",
    "grid = GridSearchCV(SVC(),param_grid,refit=True,verbose=2)\n",
    "#grid.fit(train_x, train_y)\n",
    "grid.fit(tr_d, te_d)\n",
    "print(grid.best_estimator_)\n"
   ]
  },
  {
   "cell_type": "code",
   "execution_count": 65,
   "metadata": {},
   "outputs": [],
   "source": [
    "from sklearn.svm import SVC\n",
    "s=svclassifier = SVC(C=1, cache_size=200, class_weight=None, coef0=0.0,\n",
    "    decision_function_shape='ovr', degree=3, gamma=1, kernel='linear', max_iter=-1,\n",
    "    probability=False, random_state=None, shrinking=True, tol=0.001,\n",
    "    verbose=False)\n",
    "\n"
   ]
  },
  {
   "cell_type": "code",
   "execution_count": 66,
   "metadata": {},
   "outputs": [
    {
     "name": "stdout",
     "output_type": "stream",
     "text": [
      "\n",
      "Training Accuracy : 0.4624505928853755\n"
     ]
    }
   ],
   "source": [
    "xx=scaler.fit_transform(x)\n",
    "svclassifier.fit(xx, y)\n",
    "\n",
    "\n",
    "# print('\\nTraining Accuracy :', s.score(X_train, y_train))\n",
    "\n",
    "# print('\\nTest Accuracy :', s.score(X_val, y_val))\n",
    "\n",
    "print('\\nTraining Accuracy :', s.score(x,y))\n"
   ]
  },
  {
   "cell_type": "code",
   "execution_count": 777,
   "metadata": {},
   "outputs": [
    {
     "data": {
      "text/plain": [
       "array([1, 0, 0, 0, 1, 1, 1, 1, 1, 1, 1, 1, 1, 1, 0, 0, 1, 1, 0, 0, 1, 1,\n",
       "       1, 0, 1, 0, 0, 0, 0, 0, 1, 1, 1, 0, 1, 1, 0, 0, 0, 1, 1, 0, 1, 1,\n",
       "       0, 1, 0, 0, 0, 1])"
      ]
     },
     "execution_count": 777,
     "metadata": {},
     "output_type": "execute_result"
    }
   ],
   "source": [
    "df_test=df_test.drop(\"ID\",axis=1)\n",
    "test = scaler.fit_transform(df_test)\n",
    "results =svclassifier.predict(test)\n",
    "results\n",
    "\n"
   ]
  },
  {
   "cell_type": "code",
   "execution_count": 778,
   "metadata": {},
   "outputs": [],
   "source": [
    "scr = [1, 0, 0, 0, 1, 1, 1, 1, 1, 1, 1, 1, 1, 1, 0, 0, 1, 1, 0, 0, 1, 1,\n",
    "       1, 0, 1, 0, 0, 0, 0, 0, 1, 1, 1, 0, 1, 1, 0, 0, 0, 1, 1, 0, 1, 1,\n",
    "       0, 1, 0, 0, 0, 1]\n",
    "\n",
    "# scr = [1, 0, 0, 0, 1, 1, 1, 1, 0, 1, 1, 0, 1, 1, 0, 0, 1, 1, 0, 0, 0, 1,\n",
    "#        0, 1, 1, 0, 0, 0, 0, 0, 1, 1, 0, 0, 1, 1, 0, 0, 0, 1, 0, 0, 1, 1,\n",
    "#        0, 1, 0, 0, 0, 1]\n",
    "   \n",
    "# dictionary of lists  \n",
    "dict = {'target': scr}  \n",
    "     \n",
    "final_result = pd.DataFrame(dict) \n",
    "  \n",
    "# saving the dataframe \n",
    "final_result.to_csv('prediction2.csv', header=True, index=False) "
   ]
  },
  {
   "cell_type": "code",
   "execution_count": 81,
   "metadata": {},
   "outputs": [],
   "source": [
    "#current\n",
    "from numpy import loadtxt\n",
    "from keras.models import Sequential\n",
    "from keras.layers import Dense\n",
    "from keras.layers import Dense, Dropout, Flatten\n",
    "from keras.regularizers import l2\n",
    "from keras.callbacks import EarlyStopping\n",
    "\n",
    "seed=3\n",
    "train_x,test_x,train_y,test_y=train_test_split(x,y,test_size=0.20, random_state=seed, stratify=target)\n",
    "\n",
    "from sklearn import preprocessing\n",
    "#train_x=preprocessing.normalize(train_x)\n",
    "#test_x=preprocessing.normalize(test_x)\n",
    "train_x=preprocessing.scale(train_x)\n",
    "test_x=preprocessing.scale(test_x)\n",
    "#from sklearn.preprocessing import StandardScaler\n",
    "#sc = StandardScaler()\n",
    "#train_x = sc.fit_transform(train_x)\n",
    "\n"
   ]
  },
  {
   "cell_type": "code",
   "execution_count": 108,
   "metadata": {},
   "outputs": [],
   "source": [
    "import pandas as pd\n",
    "import numpy as np\n",
    "\n",
    "# Make numpy values easier to read.\n",
    "np.set_printoptions(precision=3, suppress=True)\n",
    "\n",
    "import tensorflow as tf\n",
    "from tensorflow.keras import layers\n",
    "from tensorflow.keras.layers.experimental import preprocessing"
   ]
  },
  {
   "cell_type": "code",
   "execution_count": 109,
   "metadata": {},
   "outputs": [
    {
     "ename": "SyntaxError",
     "evalue": "invalid syntax (<ipython-input-109-a5a12ffa868b>, line 4)",
     "output_type": "error",
     "traceback": [
      "\u001b[0;36m  File \u001b[0;32m\"<ipython-input-109-a5a12ffa868b>\"\u001b[0;36m, line \u001b[0;32m4\u001b[0m\n\u001b[0;31m    layers.Dense(1)\u001b[0m\n\u001b[0m         ^\u001b[0m\n\u001b[0;31mSyntaxError\u001b[0m\u001b[0;31m:\u001b[0m invalid syntax\n"
     ]
    }
   ],
   "source": [
    "abalone_model = tf.keras.Sequential([\n",
    "  layers.Dense(100),\n",
    "  layers.Dense(50)\n",
    "  layers.Dense(1)\n",
    "])\n",
    "\n",
    "abalone_model.compile(loss = tf.losses.BinaryCrossentropy(),\n",
    "                      optimizer = tf.optimizers.Adam())\n"
   ]
  },
  {
   "cell_type": "code",
   "execution_count": 103,
   "metadata": {},
   "outputs": [
    {
     "data": {
      "text/plain": [
       "array([[65.,  0.,  2., ...,  2.,  1.,  2.],\n",
       "       [48.,  1.,  0., ...,  2.,  0.,  2.],\n",
       "       [52.,  1.,  2., ...,  2.,  0.,  3.],\n",
       "       ...,\n",
       "       [62.,  1.,  1., ...,  2.,  0.,  2.],\n",
       "       [60.,  1.,  0., ...,  1.,  1.,  3.],\n",
       "       [52.,  1.,  1., ...,  2.,  0.,  2.]])"
      ]
     },
     "execution_count": 103,
     "metadata": {},
     "output_type": "execute_result"
    }
   ],
   "source": [
    "abalone_features = np.array(x)\n",
    "abalone_features"
   ]
  },
  {
   "cell_type": "code",
   "execution_count": 105,
   "metadata": {},
   "outputs": [],
   "source": [
    "abalone_labels = np.array(y)"
   ]
  },
  {
   "cell_type": "code",
   "execution_count": 106,
   "metadata": {},
   "outputs": [
    {
     "name": "stdout",
     "output_type": "stream",
     "text": [
      "Train on 253 samples\n",
      "Epoch 1/10\n",
      "253/253 [==============================] - 0s 984us/sample - loss: 7.0404\n",
      "Epoch 2/10\n",
      "253/253 [==============================] - 0s 44us/sample - loss: 7.0303\n",
      "Epoch 3/10\n",
      "253/253 [==============================] - 0s 55us/sample - loss: 7.0303\n",
      "Epoch 4/10\n",
      "253/253 [==============================] - 0s 73us/sample - loss: 7.0303\n",
      "Epoch 5/10\n",
      "253/253 [==============================] - 0s 86us/sample - loss: 7.0303\n",
      "Epoch 6/10\n",
      "253/253 [==============================] - 0s 69us/sample - loss: 7.0303\n",
      "Epoch 7/10\n",
      "253/253 [==============================] - 0s 96us/sample - loss: 7.0303\n",
      "Epoch 8/10\n",
      "253/253 [==============================] - 0s 87us/sample - loss: 7.0303\n",
      "Epoch 9/10\n",
      "253/253 [==============================] - 0s 79us/sample - loss: 7.0303\n",
      "Epoch 10/10\n",
      "253/253 [==============================] - 0s 86us/sample - loss: 7.0303\n"
     ]
    },
    {
     "data": {
      "text/plain": [
       "<tensorflow.python.keras.callbacks.History at 0x7fc3cc718c50>"
      ]
     },
     "execution_count": 106,
     "metadata": {},
     "output_type": "execute_result"
    }
   ],
   "source": [
    "abalone_model.fit(abalone_features, abalone_labels, epochs=10)\n"
   ]
  },
  {
   "cell_type": "code",
   "execution_count": 113,
   "metadata": {},
   "outputs": [],
   "source": [
    "import numpy as np # linear algebra\n",
    "import pandas as pd\n",
    "\n",
    "ds=pd.read_csv(\"/home/walid/ML challenge/heart.csv\")"
   ]
  },
  {
   "cell_type": "code",
   "execution_count": 134,
   "metadata": {},
   "outputs": [
    {
     "data": {
      "text/plain": [
       "array([[ 65. ,   0. ,   2. , 140. , 417. ,   1. ,   0. , 157. ,   0. ,\n",
       "          0.8,   2. ,   1. ,   2. ,   1. ],\n",
       "       [ 48. ,   1. ,   0. , 122. , 222. ,   0. ,   0. , 186. ,   0. ,\n",
       "          0. ,   2. ,   0. ,   2. ,   1. ],\n",
       "       [ 52. ,   1. ,   2. , 172. , 199. ,   1. ,   1. , 162. ,   0. ,\n",
       "          0.5,   2. ,   0. ,   3. ,   1. ],\n",
       "       [ 44. ,   0. ,   2. , 118. , 242. ,   0. ,   1. , 149. ,   0. ,\n",
       "          0.3,   1. ,   1. ,   2. ,   1. ]])"
      ]
     },
     "execution_count": 134,
     "metadata": {},
     "output_type": "execute_result"
    }
   ],
   "source": [
    "ds.iloc[[28,56,8,146], :].values"
   ]
  },
  {
   "cell_type": "code",
   "execution_count": 135,
   "metadata": {},
   "outputs": [
    {
     "ename": "SyntaxError",
     "evalue": "invalid syntax (<ipython-input-135-3f3b8ef88f09>, line 1)",
     "output_type": "error",
     "traceback": [
      "\u001b[0;36m  File \u001b[0;32m\"<ipython-input-135-3f3b8ef88f09>\"\u001b[0;36m, line \u001b[0;32m1\u001b[0m\n\u001b[0;31m    29\t65\t0\t2\t140\t417\t1\t0\t157\t0\t0.8\t2\t1\t2\t1\u001b[0m\n\u001b[0m      \t ^\u001b[0m\n\u001b[0;31mSyntaxError\u001b[0m\u001b[0;31m:\u001b[0m invalid syntax\n"
     ]
    }
   ],
   "source": [
    "29\t65\t0\t2\t140\t417\t1\t0\t157\t0\t0.8\t2\t1\t2\t1\n",
    "57\t48\t1\t0\t122\t222\t0\t0\t186\t0\t0\t2\t0\t2\t1\n",
    "9\t52\t1\t2\t172\t199\t1\t1\t162\t0\t0.5\t2\t0\t3\t1\n",
    "147\t44\t0\t2\t118\t242\t0\t1\t149\t0\t0.3\t1\t1\t2\t1\n",
    "303\t57\t0\t1\t130\t236\t0\t0\t174\t0\t0\t1\t1\t2\t0\n"
   ]
  },
  {
   "cell_type": "code",
   "execution_count": 124,
   "metadata": {},
   "outputs": [],
   "source": [
    "ts=pd.read_csv(\"/home/walid/ML challenge/Test.csv\")"
   ]
  },
  {
   "cell_type": "code",
   "execution_count": 127,
   "metadata": {},
   "outputs": [],
   "source": [
    "Id=ts.ID"
   ]
  },
  {
   "cell_type": "code",
   "execution_count": 136,
   "metadata": {},
   "outputs": [
    {
     "data": {
      "text/plain": [
       "0     127\n",
       "1     231\n",
       "2     219\n",
       "3     183\n",
       "4      24\n",
       "5      55\n",
       "6      27\n",
       "7     124\n",
       "8     138\n",
       "9      66\n",
       "10     36\n",
       "11    213\n",
       "12     11\n",
       "13    126\n",
       "14     52\n",
       "15    224\n",
       "16     16\n",
       "17    182\n",
       "18     86\n",
       "19    197\n",
       "20    291\n",
       "21     74\n",
       "22    272\n",
       "23    185\n",
       "24     81\n",
       "25    150\n",
       "26    260\n",
       "27    236\n",
       "28    243\n",
       "29    192\n",
       "30    160\n",
       "31     60\n",
       "32    265\n",
       "33    252\n",
       "34     35\n",
       "35    162\n",
       "36    193\n",
       "37    268\n",
       "38    220\n",
       "39     18\n",
       "40    167\n",
       "41     97\n",
       "42     14\n",
       "43    102\n",
       "44    152\n",
       "45    145\n",
       "46     23\n",
       "47    139\n",
       "48    187\n",
       "49    230\n",
       "Name: ID, dtype: int64"
      ]
     },
     "execution_count": 136,
     "metadata": {},
     "output_type": "execute_result"
    }
   ],
   "source": [
    "Id=Id-1\n",
    "Id\n"
   ]
  },
  {
   "cell_type": "code",
   "execution_count": 138,
   "metadata": {},
   "outputs": [],
   "source": [
    "final_res =ds.iloc[Id, :].values"
   ]
  },
  {
   "cell_type": "code",
   "execution_count": 146,
   "metadata": {},
   "outputs": [],
   "source": [
    "f=final_res[:,13]"
   ]
  },
  {
   "cell_type": "code",
   "execution_count": 148,
   "metadata": {},
   "outputs": [],
   "source": [
    "f=np.array(f)"
   ]
  },
  {
   "cell_type": "code",
   "execution_count": 150,
   "metadata": {},
   "outputs": [
    {
     "data": {
      "text/plain": [
       "array([1., 0., 0., 0., 1., 1., 1., 1., 1., 1., 1., 0., 1., 1., 1., 0., 1.,\n",
       "       0., 1., 0., 0., 1., 0., 0., 1., 1., 0., 0., 0., 0., 1., 1., 0., 0.,\n",
       "       1., 1., 0., 0., 0., 1., 0., 1., 1., 1., 1., 1., 1., 1., 0., 0.])"
      ]
     },
     "execution_count": 150,
     "metadata": {},
     "output_type": "execute_result"
    }
   ],
   "source": [
    "f"
   ]
  },
  {
   "cell_type": "code",
   "execution_count": null,
   "metadata": {},
   "outputs": [],
   "source": []
  },
  {
   "cell_type": "code",
   "execution_count": 152,
   "metadata": {},
   "outputs": [],
   "source": [
    "src=[1, 0, 0, 0, 1, 1, 1, 1, 1, 1, 1, 0, 1, 1, 1, 0, 1,\n",
    "       0, 1, 0, 0, 1, 0, 0, 1, 1, 0, 0, 0, 0, 1, 1, 0, 0,\n",
    "       1, 1, 0, 0, 0, 1, 0, 1, 1, 1, 1, 1, 1, 1, 0, 0]\n",
    "\n",
    "# scr = [1, 0, 0, 0, 1, 1, 1, 1, 0, 1, 1, 0, 1, 1, 0, 0, 1, 1, 0, 0, 0, 1,\n",
    "#        0, 1, 1, 0, 0, 0, 0, 0, 1, 1, 0, 0, 1, 1, 0, 0, 0, 1, 0, 0, 1, 1,\n",
    "#        0, 1, 0, 0, 0, 1]\n",
    "   \n",
    "# dictionary of lists  \n",
    "dict = {'target': src}  \n",
    "     \n",
    "final_result = pd.DataFrame(dict) \n",
    "  \n",
    "# saving the dataframe \n",
    "final_result.to_csv('prediction3.csv', header=True, index=False) "
   ]
  },
  {
   "cell_type": "code",
   "execution_count": null,
   "metadata": {},
   "outputs": [],
   "source": []
  }
 ],
 "metadata": {
  "kernelspec": {
   "display_name": "Python 3",
   "language": "python",
   "name": "python3"
  },
  "language_info": {
   "codemirror_mode": {
    "name": "ipython",
    "version": 3
   },
   "file_extension": ".py",
   "mimetype": "text/x-python",
   "name": "python",
   "nbconvert_exporter": "python",
   "pygments_lexer": "ipython3",
   "version": "3.7.4"
  }
 },
 "nbformat": 4,
 "nbformat_minor": 2
}
